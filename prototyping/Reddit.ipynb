{
 "cells": [
  {
   "cell_type": "markdown",
   "id": "89f73b76-0083-4ccb-8db0-94736c89f983",
   "metadata": {},
   "source": [
    "# Reddit"
   ]
  },
  {
   "cell_type": "code",
   "execution_count": 1,
   "id": "fec8d94e-d120-4da2-a965-23c1a2142246",
   "metadata": {},
   "outputs": [],
   "source": [
    "#!pip install praw"
   ]
  },
  {
   "cell_type": "code",
   "execution_count": 2,
   "id": "9e6a96a3-e215-46d1-a99b-ff1e71213057",
   "metadata": {},
   "outputs": [],
   "source": [
    "import praw"
   ]
  },
  {
   "cell_type": "code",
   "execution_count": 3,
   "id": "1c4412af-5757-41cd-a1f2-9ba9d93ee1d7",
   "metadata": {},
   "outputs": [
    {
     "name": "stdout",
     "output_type": "stream",
     "text": [
      "liko\n"
     ]
    }
   ],
   "source": [
    "reddit = praw.Reddit(\n",
    "    client_id=\"RzE1cPbD7wuD-OBTXcPPjA\",\n",
    "    client_secret=\"DCVXLS1Conjmn2ICKkAff5LP5ipy9w\",\n",
    "    user_agent=\"my-python-redt-client\",\n",
    "    username=\"liko\",\n",
    "    password=\"vocreb-kukcyn-tezbE2\"\n",
    ")\n",
    "\n",
    "print(reddit.user.me())\n",
    "# Username"
   ]
  },
  {
   "cell_type": "code",
   "execution_count": 4,
   "id": "ec669868-5f88-4f38-829b-27835d33471f",
   "metadata": {},
   "outputs": [],
   "source": [
    "subreddit = reddit.subreddit(\"ProductManagement\")"
   ]
  },
  {
   "cell_type": "code",
   "execution_count": 5,
   "id": "92ee6381-12f9-4b03-8349-a709a43c4bc3",
   "metadata": {},
   "outputs": [
    {
     "name": "stdout",
     "output_type": "stream",
     "text": [
      "ProductManagement\n"
     ]
    }
   ],
   "source": [
    "print(subreddit.display_name)\n",
    "# Output: redditdev"
   ]
  },
  {
   "cell_type": "code",
   "execution_count": 6,
   "id": "9e7cc1f5-643e-4299-bce9-e5326e3a7f71",
   "metadata": {},
   "outputs": [
    {
     "name": "stdout",
     "output_type": "stream",
     "text": [
      "Product Management\n"
     ]
    }
   ],
   "source": [
    "print(subreddit.title)\n",
    "# Output: reddit development"
   ]
  },
  {
   "cell_type": "code",
   "execution_count": 7,
   "id": "68bd42e6-d9a3-48b8-afcd-e995faae6a38",
   "metadata": {},
   "outputs": [],
   "source": [
    "#print(subreddit.description)\n",
    "# Output: a subreddit for discussion of ..."
   ]
  },
  {
   "cell_type": "code",
   "execution_count": 14,
   "id": "066e8571-bdb7-4ee1-9366-489e6f8666dc",
   "metadata": {},
   "outputs": [],
   "source": [
    "pm_top = list(subreddit.top())"
   ]
  },
  {
   "cell_type": "code",
   "execution_count": 16,
   "id": "c19c5969-d5af-44b9-888f-57ec151af526",
   "metadata": {},
   "outputs": [
    {
     "name": "stdout",
     "output_type": "stream",
     "text": [
      "This is so common!\n",
      "9 lessons from my 10+ years working in product (long post)\n",
      "[Funny] What does a product manager actually do?\n",
      "A product lesson: When I got a \"?\" from Jeff Bezos\n",
      "Y'all might like this\n",
      "“Dangerous Animals” of Product Management from productboard\n",
      "How I improved my PM total comp to $420k from $250k in 3.5 months\n",
      "I have not even once mentioned Apple or Steve Jobs in meetings\n",
      "I know PMs will actually value this. This is how a blind person uses iPhone. I always have heard accessibility questions in interviews, this gives a real perspective to them.\n",
      "Blind: PM Interviews ARE COMPLETELY BROKEN\n",
      "A normal day for product Managers\n",
      "Girlfriend decorated back of my phone after hearing this too many times from meetings (bonus: cat tail)\n",
      "Product Managers at Parties\n",
      "I got the promotion to Group PM!\n",
      "Can we please talk about being the first PM at a company and that being your first PM job? I'd mainly like to know the pros and cons (and how to mitigate)\n",
      "LinkedIn these days is so aggravating. It's become the Instagram with bad UI for grownups. Is there a more professional networking platform that's actually serious about work and career?\n",
      "I built a PM book library for my product team\n",
      "I am just going to say that I am so grateful for how beautiful, informative and genuine this subreddit is.\n",
      "The Only Guide You Need to Run Effective One-on-One Meetings with your Manager\n",
      "44 Signs You're a Real Product Manager - What do you identify with the most?\n",
      "A Guide for Facebook's Rotational PM program\n",
      "I built a little website to organize resources I found useful\n",
      "Spotify Year End Wrap\n",
      "Fixed 🔨.\n",
      "Who talks during the weekly prioritization meeting\n",
      "Who else is sick of all the pageant style interviews and MBA entrance style case studies?\n",
      "Slack Notification Flowchart\n",
      "Can we just have a sticky thread every week for folks trying to break into PM world?\n",
      "This guide will get you to the next level in your product management career\n",
      "Behavioral questions in tech PM interviews\n",
      "50+ job interviews in a month\n",
      "Could someone please show me the resume of a McKinsey, Google, Facebook product manager?\n",
      "3 tips after my first 5 years in Product management\n",
      "I Have Delivered Value... But At What Cost?\n",
      "Underestimating 1:1s\n",
      "Just Accepted an Offer for my first Product Management Job and my imposter syndrome has reached radioactive levels. Hoping for some help with job prep and getting started.\n",
      "My top 12 favorite product (management) books that got me into product management\n",
      "100 Resources for Product Managers at all levels\n",
      "Some tips from someone interviewing APM candidates at FAANG all week\n",
      "Hiring Manager Perspectives - Small/Mid-size B2B SaaS\n",
      "Product frameworks for someone who is just starting out or someone who needs a refresher\n",
      "Just accepted my first full-time PM offer!!!!!!!\n",
      "Wanted to celebrate with my PM brethren\n",
      "First major win as a PM - just wanted to share\n",
      "Blind is a depressing place!\n",
      "And that's why we need to do user research, and be specific with the instructions\n",
      "Are you sure you want to be a Product Manager?\n",
      "Marty Cagan promoting toxic work life balance?\n",
      "Good Reads for Aspiring PMs\n",
      "Which one of you is responsible for Apple TV? And why haven't you hired a designer yet?\n",
      "I got into PM!\n",
      "Ace The Next Product Manager Interview With This Guide\n",
      "Productivity for Product Managers\n",
      "Dear Hiring Managers / VP of Product\n",
      "[Infographic] The Periodic Table of UX Elements\n",
      "Don't confuse being busy with adding value\n",
      "Product manager interview update\n",
      "Does anyone else feel like they are low-key bad at their job but no one notices because no one else understands your product?\n",
      "PM102: Reflecting on the classic lies in product management\n",
      "I am giving up on my career\n",
      "My product management shelf on my bookcase! What PM books (or decor) should I add next?\n",
      "[Blog post] PMs need to get a lot done. This is how we do it.\n",
      "PM Book Club!\n",
      "I finally broke into PM!!\n",
      "Underrated requirement\n",
      "Product Management (+consulting and taking risks) completely changed my life: How I went from $12k to $135K in 5 years and then from $135K to $1M in compensation in 5 years on the dot!\n",
      "Best Product Management content of the year.\n",
      "8 weeks of job search spree ended happily. Two years of PM experience beforehand.\n",
      "Any PMs with ADHD?\n",
      "Wiki for Product Management interview preparation\n",
      "How to crack the PM whiteboard interview (from the other side of the whiteboard)\n",
      "Why Take Home Assignments During the Interview Process Are Bullshit - And Why You Should Run From Companies That Make You Do Them\n",
      "Product Director position asking for 20 years of Agile experience; Agile Manifesto is 20 years old so they must be looking for one of the authors of it!\n",
      "Five good Product Management podcasts\n",
      "I'm a CPO of a public company and here are my interview tips\n",
      "Product Market Fit, visualized\n",
      "Being a PM can really suck some times\n",
      "Is it wrong to just want to do my job?\n",
      "Make the most of 1:1s (a manager's perspective)\n",
      "Craig is a god tier product manager\n",
      "Lol\n",
      "Imposter syndrome - does every PM feel it?\n",
      "PM interview take-home assignment examples and responses\n",
      "An editor that connects features to user interviews and meeting notes automatically\n",
      "“If you are not embarrassed by the first version of your product, you’ve launched too late.” - Reid Hoffman, LinkedIn/Greylock\n",
      "Me after reading a Cagan blog post\n",
      "Interview with Director of Product Management at Twitter\n",
      "My Mental Model for Product Principles\n",
      "Can we add an FAQ page about PM courses/books/blogs (and maybe one about MBA/certs) to this subreddit?\n",
      "Salary thread\n",
      "[Social Dilemma] The problem isn't data or personalization or tech or AI - it's advertising based business models at scale\n",
      "I just quit my PM job.\n",
      "Product management with ADHD\n",
      "Turning in my resignation next week.\n",
      "Examples of interview questions I have experienced in the last month\n",
      "Interviewing? Some tips on how to check for role and cultural fit.\n",
      "On a somber note: My first tech job, I was directly hired by the VP of Product at a big software company.....I received word this afternoon that he passed away (COVID-19)\n",
      "In theory, there should be more than enough PM jobs for everybody in this subreddit.\n",
      "Some insights from a Director of Product\n",
      "Help! I was promoted too fast and am completely burnt out and I hate my job and now I am stuck.\n"
     ]
    }
   ],
   "source": [
    "for submission in pm_top:\n",
    "    print(submission.title)"
   ]
  },
  {
   "cell_type": "code",
   "execution_count": 18,
   "id": "3022307c-9630-4c24-a612-02dfa247a41a",
   "metadata": {},
   "outputs": [
    {
     "data": {
      "text/plain": [
       "'“If you are not embarrassed by the first version of your product, you’ve launched too late.” - Reid Hoffman, LinkedIn/Greylock'"
      ]
     },
     "execution_count": 18,
     "metadata": {},
     "output_type": "execute_result"
    }
   ],
   "source": [
    "pm_top[84].title"
   ]
  },
  {
   "cell_type": "code",
   "execution_count": 20,
   "id": "7d5f549f-ec49-48f7-a7dc-3135b5c5151c",
   "metadata": {},
   "outputs": [],
   "source": [
    "comments = pm_top[84].comments.list()"
   ]
  },
  {
   "cell_type": "code",
   "execution_count": 24,
   "id": "cd92aa68-83ad-4fb0-ac3b-fa32096f491b",
   "metadata": {},
   "outputs": [
    {
     "data": {
      "text/plain": [
       "33"
      ]
     },
     "execution_count": 24,
     "metadata": {},
     "output_type": "execute_result"
    }
   ],
   "source": [
    "len(comments)"
   ]
  },
  {
   "cell_type": "code",
   "execution_count": 21,
   "id": "4b560222-5010-4b3d-aaf8-cfea5c49c5c9",
   "metadata": {},
   "outputs": [
    {
     "data": {
      "text/plain": [
       "'Like a whole lot of unqualified business advice that people have been treating as gospel since about 2006, this only applies to specific types of software startups.'"
      ]
     },
     "execution_count": 21,
     "metadata": {},
     "output_type": "execute_result"
    }
   ],
   "source": [
    "comments[0].body"
   ]
  },
  {
   "cell_type": "code",
   "execution_count": 23,
   "id": "78427baa-f369-497f-bd9a-c6b2cbfd7ff5",
   "metadata": {},
   "outputs": [
    {
     "data": {
      "text/plain": [
       "'\"Done is better than perfect.\"'"
      ]
     },
     "execution_count": 23,
     "metadata": {},
     "output_type": "execute_result"
    }
   ],
   "source": [
    "comments[1].body"
   ]
  },
  {
   "cell_type": "code",
   "execution_count": 27,
   "id": "b06fde89-9e43-4f39-9ce3-e6a699e1ad14",
   "metadata": {},
   "outputs": [
    {
     "data": {
      "text/plain": [
       "\"You should be careful not to read too much into this. Though perfection is the enemy, a unusable product and improper positioning is also a failure.\\n\\nMany have said that use MVP to find P/M fit so that you can learn from faster iterations. I absolutely agree but building MVP is difficult because you have to make some hard decisions on what makes the cut vs what doesn't. Some basic principles I use for MVP are\\n\\n1. day 1 vs day 2 features. For MVP, focus on subset of day 1 features\\n2. single use case vs multiple use cases. For MVP, start with the critical single use case that aligns with your messaging\\n3. For MVP, invest in onboarding the attractive segment that are receptive to your messaging\\n4. Ignore scale related initiatives until you have reached stickiness with your first segment. For e.g. usability at scale, product performance at scale and so on aren't that important with MVP.\\n5. Design a vertical slice that covers end to end use case such that the use case is usable, functional, delightful and reliable. \\n6. Have tight feedback loops with the power users. Build in ways to submit feedback, establish triage and prioritization process for bugs/feature requests etc.\\n7. Instrument to capture your success metrics/counter metrics. Use tools like Amplitude to learn about your users and their behaviors.\\n8. Assuming you have proper instrumentation/tools, analyze your retention (and it's flip side - churn) - Who are sticking/leaving, when are they leaving, what are the attributes of users (and actions they take) that stick around and so on. You're continuously analyzing, synthesizing and sharing your cohort analysis.\""
      ]
     },
     "execution_count": 27,
     "metadata": {},
     "output_type": "execute_result"
    }
   ],
   "source": [
    "comments[2].body"
   ]
  },
  {
   "cell_type": "code",
   "execution_count": 25,
   "id": "bcdece15-a0ac-4d85-8bf1-01e8df6ebfa5",
   "metadata": {},
   "outputs": [
    {
     "data": {
      "text/plain": [
       "'Totally second this, your first goal should be to check product market fit, it doesn’t need a perfect product to verify that'"
      ]
     },
     "execution_count": 25,
     "metadata": {},
     "output_type": "execute_result"
    }
   ],
   "source": [
    "comments[3].body"
   ]
  },
  {
   "cell_type": "code",
   "execution_count": 32,
   "id": "d872898a-8015-418d-a3e3-4e3d4b6c257e",
   "metadata": {},
   "outputs": [
    {
     "data": {
      "text/plain": [
       "'Blind: PM Interviews ARE COMPLETELY BROKEN'"
      ]
     },
     "execution_count": 32,
     "metadata": {},
     "output_type": "execute_result"
    }
   ],
   "source": [
    "pm_top[9].title"
   ]
  },
  {
   "cell_type": "code",
   "execution_count": 34,
   "id": "9f575292-3e7c-4359-923c-59f478adfb7a",
   "metadata": {},
   "outputs": [
    {
     "name": "stdout",
     "output_type": "stream",
     "text": [
      "One of the better posts I've seen on Blind.\n",
      "\n",
      "[https://www.teamblind.com/post/PM-Interviews-ARE-COMPLETELY-BROKEN-gWVq10xX](https://www.teamblind.com/post/PM-Interviews-ARE-COMPLETELY-BROKEN-gWVq10xX)\n",
      "\n",
      "\" Let me preface this by saying I have been a PM at Microsoft for the past 11 years where I have led massive teams and literally made the company billions of dollars and another 8 years of product experience at various startups before that, including my own which was acquired by Microsoft.\n",
      "\n",
      "About a year ago, I had a record number of recruiters reaching out on LinkedIn and for the first time in a decade, I decided to actually take some interviews as the market was getting red hot. I got rejected after the first or second round everywhere--Snap, Google, Facebook, Stripe, you name it. I know I am a stellar Product Manager and all my performance evals and promotion history at Microsoft solidly back that up.\n",
      "\n",
      "However, the interview feedback I consistently got was that my responses weren’t structured enough or that I had missed covering things in my response that weren’t explicitly asked about. Or worse, I would get useless hypothetical questions like “Come up with the business strategy for an invisibility cloak” which just felt like PMs at Google in their mid-20s were trying to amuse themselves at the expense of my interview experience.\n",
      "\n",
      "This year, I decided to recruit again but instead of winging it, I spent nights and weekends for an entire month prepping. I completed the full Product Alliance course, wrote out 20 different stories I could use for various behavioral questions, did some paid mocks with PMs at the some companies I was targeting, etc. This time around, I got offers from everywhere I interviewed (Facebook, Google, Coinbase, Apple, Rivian and Uber) with the sole exception of Stripe.\n",
      "\n",
      "My realization was nothing had really changed in me as a candidate between the 1 year where I got rejected and then accepted at a lot of the same companies. There is just an artificial barrier we have put up around preparing frameworks, structures and canned stories in order to progress our careers. If you haven’t spent at least 40-50 hours prepping, you realistically won’t get offers at any top companies despite having awesome credentials. What’s worse, is the questions you get asked in PM interviews do extremely little to establish that you’d actually be a good Product Manager. Like estimation questions in particular are largely useless imo; however, unless you have learned the preferred structure for answering estimation questions, you won't get the job offer where you'd actually be working a very specific project that’s already been market sized and is going to ship regardless of your ability to do back of the envelope calculations on the spot.\n",
      "\n",
      "I’m not sure where I am going with this. I just feel like the current FAANG PM interview process just tests if you have studied rather than if you are actually a good PM. I shouldn’t have to take a 30 hour course to pass PM interviews when I have nearly two decades of experience. I think the current state of product management interviews is completely broken and it's gonna lead to the wrong people taking the product reins at a lot of the current top companies if it doesn’t change. Companies are explicitly prioritizing candidate's willingness to cram for interviews over actual product experience, references, etc which I think is a big mistake.\n",
      "\n",
      "YOE: 19  \n",
      "New TC at Facebook: 890K \"\n"
     ]
    }
   ],
   "source": [
    "print(pm_top[9].selftext)"
   ]
  },
  {
   "cell_type": "code",
   "execution_count": null,
   "id": "825dfeec-b4c7-499d-a5cd-b8f4664f7b26",
   "metadata": {},
   "outputs": [],
   "source": []
  },
  {
   "cell_type": "code",
   "execution_count": null,
   "id": "f8616c55-cb0e-4435-846c-d5b5a9aaf3c5",
   "metadata": {},
   "outputs": [],
   "source": []
  },
  {
   "cell_type": "code",
   "execution_count": null,
   "id": "284bd07c-2bfc-459f-9023-f842804c0350",
   "metadata": {},
   "outputs": [],
   "source": []
  },
  {
   "cell_type": "code",
   "execution_count": null,
   "id": "af0abf2e-e332-4611-9a41-3e4d39b5c72e",
   "metadata": {},
   "outputs": [],
   "source": []
  },
  {
   "cell_type": "code",
   "execution_count": null,
   "id": "ebdfd580-84e3-496d-a4b2-9411f5d55ab8",
   "metadata": {},
   "outputs": [],
   "source": []
  }
 ],
 "metadata": {
  "kernelspec": {
   "display_name": "Python 3 (ipykernel)",
   "language": "python",
   "name": "python3"
  },
  "language_info": {
   "codemirror_mode": {
    "name": "ipython",
    "version": 3
   },
   "file_extension": ".py",
   "mimetype": "text/x-python",
   "name": "python",
   "nbconvert_exporter": "python",
   "pygments_lexer": "ipython3",
   "version": "3.8.10"
  }
 },
 "nbformat": 4,
 "nbformat_minor": 5
}
