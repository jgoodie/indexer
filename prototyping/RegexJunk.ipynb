{
 "cells": [
  {
   "cell_type": "markdown",
   "id": "ba9285eb-00e8-4bc2-b10a-838314e0b498",
   "metadata": {},
   "source": [
    "# Regex Junk"
   ]
  },
  {
   "cell_type": "code",
   "execution_count": 8,
   "id": "aa6fd639-82cc-424a-8ca0-439d2c454351",
   "metadata": {},
   "outputs": [],
   "source": [
    "import re"
   ]
  },
  {
   "cell_type": "code",
   "execution_count": 6,
   "id": "d4867789-f826-4ab4-a51f-60f808ca2512",
   "metadata": {},
   "outputs": [],
   "source": [
    "hitachi = \"\"\"{{plainlist|\n",
    "\n",
    "*|TYO|6501|\n",
    "\n",
    "*|NAG|6501|\n",
    "\n",
    "*[[Nikkei 225]] component (TYO)\n",
    "\n",
    "*[[TOPIX]] Core30 component (TYO)}} {{TYO|6501}} * {{NAG|6501}} *[[Nikkei 225]] component (TYO)\n",
    "\n",
    "*[[TOPIX]] Core30 component (TYO)\"\"\"\n",
    "\n",
    "aramco = \"\"\"{{Saudi Stock Exchange|2222}}\"\"\"\n",
    "\n",
    "ibm =  \"\"\"{{ubl|NYSE|IBM|[[DJIA]] component|[[S&P 100]] component|[[S&P 500]] component}} {{NYSE|IBM}}\"\"\"\n",
    "\n",
    "fujitsu = \"\"\"{{Unbulleted list|tyo|6702|NAG|6702|[[Nikkei 225]] component (TYO)|[[TOPIX]] Large70 component (TYO)}} {{tyo|6702}} {{NAG|6702}}\"\"\"\n",
    "\n",
    "fomoco = \"\"\"{{unbulleted list|nyse|F|[[S&P 100|S&P 100 Component]]|[[S&P 500|S&P 500 Component]]}} {{nyse|F}}\"\"\"\n",
    "\n",
    "hsbc = \"\"\"{{plainlist|\n",
    "\n",
    "*|LSE|HSBA|\n",
    "\n",
    "*|SEHK|5|\n",
    "\n",
    "*|NYSE|HSBC|\n",
    "\n",
    "*|bsx|id|=|1077223879|HSBC.BH|\n",
    "\n",
    "*[[FTSE 100 Index|FTSE 100]] component (HSBA)\n",
    "\n",
    "*[[Hang Seng Index|Hang Seng]] component (5)}} {{LSE|HSBA}} * {{SEHK|5}} * {{NYSE|HSBC}} * {{bsx|id|=|1077223879|HSBC.BH}} *[[FTSE 100 Index|FTSE 100]] component (HSBA)\n",
    "\n",
    "*[[Hang Seng Index|Hang Seng]] component (5)\"\"\"\n",
    "\n",
    "sap = \"\"\"{{FWB|SAP}} <br />[[DAX|DAX Component]]\"\"\"\n",
    "\n",
    "tesla = \"\"\"{{Unbulleted list\n",
    "\n",
    "   | |NASDAQ|TSLA|\n",
    "\n",
    "   | [[Nasdaq-100]] component\n",
    "\n",
    "   | [[S&P 100]] component\n",
    "\n",
    "   | [[S&P 500]] component}} {{NASDAQ|TSLA}}\"\"\"\n",
    "\n",
    "\n",
    "sony = \"\"\"{{plainlist|\n",
    "\n",
    "* |Tyo|6758|\n",
    "\n",
    "* |Nyse|SONY|\n",
    "\n",
    "* [[Nikkei 225]] component (6758)\n",
    "\n",
    "* [[TOPIX]] Core30 component (6758)}} {{Tyo|6758}} * {{Nyse|SONY}} * [[Nikkei 225]] component (6758)\n",
    "\n",
    "* [[TOPIX]] Core30 component (6758)\"\"\"\n",
    "\n",
    "teradata = \"\"\"{{Unbulleted list|nyse|TDC|[[S&P 400]] component}} {{nyse|TDC}}\"\"\"\n"
   ]
  },
  {
   "cell_type": "code",
   "execution_count": 52,
   "id": "1da06968-a2cd-49cd-90e7-94ea162eba64",
   "metadata": {},
   "outputs": [
    {
     "data": {
      "text/plain": [
       "['{{asdf|asdf}}']"
      ]
     },
     "execution_count": 52,
     "metadata": {},
     "output_type": "execute_result"
    }
   ],
   "source": [
    "# pattern = '\\{\\{\\S+\\|\\S+\\}\\}'\n",
    "# pattern = '\\{\\{.*?\\|.*?\\}\\}'\n",
    "pattern = '\\{\\{.+?\\|.+?\\}\\}'\n",
    "re.findall(pattern, \"\"\"{{asdf|asdf}}\"\"\")"
   ]
  },
  {
   "cell_type": "code",
   "execution_count": 64,
   "id": "14eeb54c-3730-4a69-bb70-45c7153741b0",
   "metadata": {},
   "outputs": [
    {
     "data": {
      "text/plain": [
       "'{{Saudi Stock Exchange|2222}}'"
      ]
     },
     "execution_count": 64,
     "metadata": {},
     "output_type": "execute_result"
    }
   ],
   "source": [
    "pattern = '\\{\\{.+?\\|.+?\\}\\}'\n",
    "re.findall(pattern, aramco)[-1]"
   ]
  },
  {
   "cell_type": "code",
   "execution_count": 63,
   "id": "ad6846a4-f687-4934-b723-962197fe5799",
   "metadata": {},
   "outputs": [
    {
     "data": {
      "text/plain": [
       "'{{nyse|TDC}}'"
      ]
     },
     "execution_count": 63,
     "metadata": {},
     "output_type": "execute_result"
    }
   ],
   "source": [
    "pattern = '\\{\\{.+?\\|.+?\\}\\}'\n",
    "re.findall(pattern, teradata)[-1]"
   ]
  },
  {
   "cell_type": "code",
   "execution_count": 62,
   "id": "e6127605-ed20-4cfe-abcb-30435bfb0216",
   "metadata": {},
   "outputs": [
    {
     "data": {
      "text/plain": [
       "'{{Nyse|SONY}}'"
      ]
     },
     "execution_count": 62,
     "metadata": {},
     "output_type": "execute_result"
    }
   ],
   "source": [
    "pattern = '\\{\\{.+?\\|.+?\\}\\}'\n",
    "re.findall(pattern, sony)[-1]"
   ]
  },
  {
   "cell_type": "code",
   "execution_count": 61,
   "id": "a1348621-3a33-42f7-a336-5705938ef30e",
   "metadata": {},
   "outputs": [
    {
     "data": {
      "text/plain": [
       "'{{NAG|6501}}'"
      ]
     },
     "execution_count": 61,
     "metadata": {},
     "output_type": "execute_result"
    }
   ],
   "source": [
    "pattern = '\\{\\{.+?\\|.+?\\}\\}'\n",
    "re.findall(pattern, hitachi)[-1]"
   ]
  },
  {
   "cell_type": "code",
   "execution_count": 60,
   "id": "63db9da8-3944-425c-9332-53643066511d",
   "metadata": {},
   "outputs": [
    {
     "data": {
      "text/plain": [
       "'{{NYSE|IBM}}'"
      ]
     },
     "execution_count": 60,
     "metadata": {},
     "output_type": "execute_result"
    }
   ],
   "source": [
    "pattern = '\\{\\{.+?\\|.+?\\}\\}'\n",
    "re.findall(pattern, ibm)[-1]"
   ]
  },
  {
   "cell_type": "code",
   "execution_count": 65,
   "id": "f73105ea-f98e-4925-a36d-db0394e365bc",
   "metadata": {},
   "outputs": [
    {
     "data": {
      "text/plain": [
       "'{{NASDAQ|TSLA}}'"
      ]
     },
     "execution_count": 65,
     "metadata": {},
     "output_type": "execute_result"
    }
   ],
   "source": [
    "pattern = '\\{\\{.+?\\|.+?\\}\\}'\n",
    "re.findall(pattern, tesla)[-1]"
   ]
  },
  {
   "cell_type": "code",
   "execution_count": 66,
   "id": "cccac35e-0762-44f9-a724-ded95f6d638b",
   "metadata": {},
   "outputs": [
    {
     "data": {
      "text/plain": [
       "'{{FWB|SAP}}'"
      ]
     },
     "execution_count": 66,
     "metadata": {},
     "output_type": "execute_result"
    }
   ],
   "source": [
    "pattern = '\\{\\{.+?\\|.+?\\}\\}'\n",
    "re.findall(pattern, sap)[-1]"
   ]
  },
  {
   "cell_type": "code",
   "execution_count": 68,
   "id": "aa82f9de-20a5-4f2b-bfd8-f092e04e1ea3",
   "metadata": {},
   "outputs": [
    {
     "data": {
      "text/plain": [
       "['{{LSE|HSBA}}',\n",
       " '{{SEHK|5}}',\n",
       " '{{NYSE|HSBC}}',\n",
       " '{{bsx|id|=|1077223879|HSBC.BH}}']"
      ]
     },
     "execution_count": 68,
     "metadata": {},
     "output_type": "execute_result"
    }
   ],
   "source": [
    "pattern = '\\{\\{.+?\\|.+?\\}\\}'\n",
    "re.findall(pattern, hsbc)"
   ]
  },
  {
   "cell_type": "code",
   "execution_count": 70,
   "id": "a8c0ccbc-feab-4e85-84b9-b809f294ce56",
   "metadata": {},
   "outputs": [
    {
     "data": {
      "text/plain": [
       "'{{nyse|F}}'"
      ]
     },
     "execution_count": 70,
     "metadata": {},
     "output_type": "execute_result"
    }
   ],
   "source": [
    "pattern = '\\{\\{.+?\\|.+?\\}\\}'\n",
    "re.findall(pattern, fomoco)[-1]"
   ]
  },
  {
   "cell_type": "code",
   "execution_count": null,
   "id": "bb97d5b0-8d25-4ad1-8c83-762d80be37c3",
   "metadata": {},
   "outputs": [],
   "source": []
  },
  {
   "cell_type": "code",
   "execution_count": null,
   "id": "f5ddedd5-8d17-4371-bc35-999e6a3ce45d",
   "metadata": {},
   "outputs": [],
   "source": []
  },
  {
   "cell_type": "code",
   "execution_count": null,
   "id": "ec6408e6-5e69-45a7-bfe1-46f469827810",
   "metadata": {},
   "outputs": [],
   "source": []
  },
  {
   "cell_type": "code",
   "execution_count": null,
   "id": "d113208a-db36-46ba-8ea8-9dafd27615a3",
   "metadata": {},
   "outputs": [],
   "source": []
  }
 ],
 "metadata": {
  "kernelspec": {
   "display_name": "Python 3 (ipykernel)",
   "language": "python",
   "name": "python3"
  },
  "language_info": {
   "codemirror_mode": {
    "name": "ipython",
    "version": 3
   },
   "file_extension": ".py",
   "mimetype": "text/x-python",
   "name": "python",
   "nbconvert_exporter": "python",
   "pygments_lexer": "ipython3",
   "version": "3.8.10"
  }
 },
 "nbformat": 4,
 "nbformat_minor": 5
}
