{
 "cells": [
  {
   "cell_type": "code",
   "execution_count": 19,
   "id": "8e2fbf63-2e8e-46a7-ab21-fa088d03fa0f",
   "metadata": {},
   "outputs": [],
   "source": [
    "import re\n",
    "import json\n",
    "import requests\n",
    "import numpy as np\n",
    "import pandas as pd\n",
    "from tika import parser\n",
    "import matplotlib.pyplot as plt\n",
    "\n",
    "%matplotlib inline"
   ]
  },
  {
   "cell_type": "code",
   "execution_count": 20,
   "id": "0c43a101-a671-463e-9bc8-1397a96e2292",
   "metadata": {},
   "outputs": [
    {
     "name": "stdout",
     "output_type": "stream",
     "text": [
      "'20140910-APAC-AUSTRALIA-ACT-CANBERRA-RESEARCH-Storage Beyond Panama-CSIRO-Transcript.docx'\n",
      " 20160219-APAC-AUSTRALIA-VICTRIA-MELBOURNE-ICT-HyperConverged-ModerationIT-Interview.pdf\n",
      " alice_in_wonderland.txt\n",
      " bloomberg.csv\n",
      " Canada-fiscalRefTable-trf-10-eng.xls\n",
      " espanol.txt\n",
      " icechat.eml\n",
      "'Re Aixeon-HDS testing.msg'\n",
      "'Thinking In C++ 2nd Edition.rtf'\n",
      " workers-and-capital.epub\n"
     ]
    }
   ],
   "source": [
    "!ls samples"
   ]
  },
  {
   "cell_type": "markdown",
   "id": "3a020c9e-680c-4940-9f0d-5d36ecec3f0c",
   "metadata": {},
   "source": [
    "### MIME Types\n",
    "\n",
    "https://developer.mozilla.org/en-US/docs/Web/HTTP/Basics_of_HTTP/MIME_types"
   ]
  },
  {
   "cell_type": "markdown",
   "id": "fa78c269-da05-419d-8fc1-bc10b8551b09",
   "metadata": {},
   "source": [
    "# TEXT"
   ]
  },
  {
   "cell_type": "markdown",
   "id": "6760fb31-f458-40d0-8735-45afd2115a96",
   "metadata": {},
   "source": [
    "## Get Metadata"
   ]
  },
  {
   "cell_type": "code",
   "execution_count": 21,
   "id": "23357d4d-b260-42be-8697-dac0dc2aba35",
   "metadata": {},
   "outputs": [
    {
     "name": "stdout",
     "output_type": "stream",
     "text": [
      "X-TIKA:Parsed-By,org.apache.tika.parser.DefaultParser,org.apache.tika.parser.csv.TextAndCSVParser\n",
      "Content-Encoding,ISO-8859-1\n",
      "language,en\n",
      "Content-Type-Override,text/plain\n",
      "Content-Type,text/plain; charset=ISO-8859-1\n",
      "\n"
     ]
    }
   ],
   "source": [
    "file = \"samples/alice_in_wonderland.txt\"\n",
    "tika_url = \"http://localhost:9998/meta\"\n",
    "headers = {'Content-type': 'text/plain', 'Alice': file}\n",
    "r = requests.put(tika_url, data=open(file, 'rb'), headers=headers)\n",
    "print(r.text)"
   ]
  },
  {
   "cell_type": "markdown",
   "id": "0908b032-43e5-48a4-acbb-e505fec39524",
   "metadata": {},
   "source": [
    "## Return txt as txt\n",
    "\n",
    "### Note the headers content-type and accept"
   ]
  },
  {
   "cell_type": "code",
   "execution_count": 22,
   "id": "875fd227-e18a-4249-afbd-483109eb466a",
   "metadata": {},
   "outputs": [
    {
     "name": "stdout",
     "output_type": "stream",
     "text": [
      "       CHAPTER I\n",
      "\n",
      "                      Down the Rabbit-Hole\n",
      "\n",
      "\n",
      "  Alice was beginning to get very tired of sitting by her sister\n",
      "on the bank, and of having nothing to do:  once or twice she had\n",
      "peeped into the book her sister was reading, but it had no\n",
      "pictures or conversations in it, `and what is th\n"
     ]
    }
   ],
   "source": [
    "file = \"samples/alice_in_wonderland.txt\"\n",
    "tika_url = \"http://localhost:9998/tika\"\n",
    "headers = {'Content-type': 'text/plain', 'Alice': file, 'Accept': 'text/plain'}\n",
    "r = requests.put(tika_url, data=open(file, 'rb'), headers=headers)\n",
    "print(r.text[200:500])\n"
   ]
  },
  {
   "cell_type": "markdown",
   "id": "5f04aa08-31df-403d-bfe8-d4033763eec8",
   "metadata": {},
   "source": [
    "### Return as json. Note the tika url"
   ]
  },
  {
   "cell_type": "code",
   "execution_count": 23,
   "id": "4d02b34e-7fd3-4213-9c07-25ad97113917",
   "metadata": {},
   "outputs": [
    {
     "name": "stdout",
     "output_type": "stream",
     "text": [
      "                CHAPTER I\n",
      "\n",
      "                      Down the Rabbit-Hole\n",
      "\n",
      "\n",
      "  Alice was beginning to get very tired of sitting by her sister\n",
      "on the bank, and of having nothing to do:  once or twice she had\n",
      "peeped into the book her sister was reading, but it had no\n",
      "pictures or conversations in it, `and w\n"
     ]
    }
   ],
   "source": [
    "file = \"samples/alice_in_wonderland.txt\"\n",
    "tika_url = \"http://localhost:9998/tika/text\"\n",
    "headers = {'Content-type': 'text/plain', 'Alice': file, 'Accept': 'application/json'}\n",
    "r = requests.put(tika_url, data=open(file, 'rb'), headers=headers)\n",
    "print(json.loads(r.text)['X-TIKA:content'][200:500])"
   ]
  },
  {
   "cell_type": "markdown",
   "id": "8da0cefe-9a84-41dd-8c93-d892a88aad2b",
   "metadata": {},
   "source": [
    "## Identify MIME/media type"
   ]
  },
  {
   "cell_type": "code",
   "execution_count": 24,
   "id": "79f8a2e8-a47b-4cfc-acca-97cb21a0a710",
   "metadata": {},
   "outputs": [
    {
     "name": "stdout",
     "output_type": "stream",
     "text": [
      "text/plain\n"
     ]
    }
   ],
   "source": [
    "file = \"samples/alice_in_wonderland.txt\"\n",
    "tika_url = \"http://localhost:9998/detect/stream\"\n",
    "headers = {'Alice': file, 'Accept': 'text/plain'}\n",
    "r = requests.put(tika_url, data=open(file, 'rb'), headers=headers)\n",
    "print(r.text)"
   ]
  },
  {
   "cell_type": "code",
   "execution_count": 25,
   "id": "8da4b845-66fd-4156-b3a6-bf8f51e0e187",
   "metadata": {},
   "outputs": [
    {
     "name": "stdout",
     "output_type": "stream",
     "text": [
      "application/pdf\n"
     ]
    }
   ],
   "source": [
    "file = \"samples/20160219-APAC-AUSTRALIA-VICTRIA-MELBOURNE-ICT-HyperConverged-ModerationIT-Interview.pdf\"\n",
    "tika_url = \"http://localhost:9998/detect/stream\"\n",
    "headers = {'Alice': file, 'Accept': 'text/plain'}\n",
    "r = requests.put(tika_url, data=open(file, 'rb'), headers=headers)\n",
    "print(r.text)"
   ]
  },
  {
   "cell_type": "code",
   "execution_count": 26,
   "id": "275c9e04-e3d0-427e-bc33-a554c111d828",
   "metadata": {},
   "outputs": [
    {
     "name": "stdout",
     "output_type": "stream",
     "text": [
      "application/epub+zip\n"
     ]
    }
   ],
   "source": [
    "file = \"samples/workers-and-capital.epub\"\n",
    "tika_url = \"http://localhost:9998/detect/stream\"\n",
    "headers = {'Alice': file, 'Accept': 'text/plain'}\n",
    "r = requests.put(tika_url, data=open(file, 'rb'), headers=headers)\n",
    "print(r.text)"
   ]
  },
  {
   "cell_type": "markdown",
   "id": "525139bb-b2d6-4636-9d97-898d86499701",
   "metadata": {},
   "source": [
    "## Detect Language"
   ]
  },
  {
   "cell_type": "code",
   "execution_count": 27,
   "id": "df29fafc-54ef-4b21-9670-eaaaae309bec",
   "metadata": {},
   "outputs": [
    {
     "name": "stdout",
     "output_type": "stream",
     "text": [
      "en\n"
     ]
    }
   ],
   "source": [
    "file = \"samples/alice_in_wonderland.txt\"\n",
    "tika_url = \"http://localhost:9998/language/stream\"\n",
    "headers = {'Content-type': 'text/plain', 'Alice': file,}\n",
    "r = requests.put(tika_url, data=open(file, 'rb'), headers=headers)\n",
    "print(r.text)"
   ]
  },
  {
   "cell_type": "markdown",
   "id": "a31e360e-1797-48d9-addd-a4eeb093b55c",
   "metadata": {},
   "source": [
    "## Language Translation\n",
    "\n",
    "**Note: this doesn't seem to be working and is not clearning documented**"
   ]
  },
  {
   "cell_type": "code",
   "execution_count": 28,
   "id": "20e3db6d-3175-4906-84a2-435b69e5c55d",
   "metadata": {},
   "outputs": [
    {
     "name": "stdout",
     "output_type": "stream",
     "text": [
      "<Response [500]>\n"
     ]
    }
   ],
   "source": [
    "file = \"samples/alice_in_wonderland.txt\"\n",
    "tika_url = \"http://localhost:9998/translate/all/org.apache.tika.language.translate.Lingo24Translator/en/es\"\n",
    "headers = {'Content-type': 'application/octet-stream', 'Alice': file, 'Accept': 'text/plain'}\n",
    "r = requests.put(tika_url, data=open(file, 'rb'), headers=headers)\n",
    "print(r)"
   ]
  },
  {
   "cell_type": "code",
   "execution_count": 29,
   "id": "d7107cb6-70bf-4e3a-9d96-3a183162b864",
   "metadata": {},
   "outputs": [
    {
     "name": "stdout",
     "output_type": "stream",
     "text": [
      "<Response [500]>\n"
     ]
    }
   ],
   "source": [
    "file = \"samples/alice_in_wonderland.txt\"\n",
    "tika_url = \"http://localhost:9998/translate/all/org.apache.tika.language.translate.GoogleTranslator/en/es\"\n",
    "headers = {'Content-type': 'application/octet-stream', 'Alice': file, 'Accept': 'text/plain'}\n",
    "r = requests.put(tika_url, data=open(file, 'rb'), headers=headers)\n",
    "print(r)"
   ]
  },
  {
   "cell_type": "code",
   "execution_count": 39,
   "id": "bc5ddd7b-60de-4d4b-9a6b-20de919b0624",
   "metadata": {},
   "outputs": [
    {
     "name": "stdout",
     "output_type": "stream",
     "text": [
      "<Response [500]>\n"
     ]
    }
   ],
   "source": [
    "file = \"samples/espanol.txt\"\n",
    "tika_url = \"http://localhost:9998/translate/all/org.apache.tika.language.translate.RTGTranslator/x/eng\"\n",
    "headers = {'Content-type': 'text/plain', 'espanol': file, 'Accept': 'text/plain'}\n",
    "r = requests.put(tika_url, data=open(file, 'rb'), headers=headers)\n",
    "print(r)"
   ]
  },
  {
   "cell_type": "code",
   "execution_count": 31,
   "id": "558e68f1-a595-4cd8-b205-64ad9fcc31b7",
   "metadata": {},
   "outputs": [],
   "source": [
    "#!cat samples/espanol.txt"
   ]
  },
  {
   "cell_type": "markdown",
   "id": "6447d3c6-ecfd-4ee5-a5a6-ddf390dadf31",
   "metadata": {},
   "source": [
    "# PDF\n",
    "\n",
    "## Get Metadata"
   ]
  },
  {
   "cell_type": "code",
   "execution_count": null,
   "id": "6874caba-8953-43c9-b4f6-06e6ae76cda7",
   "metadata": {},
   "outputs": [],
   "source": [
    "# # from tika import parser # pip install tika\n",
    "# file = \"samples/20160219-APAC-AUSTRALIA-VICTRIA-MELBOURNE-ICT-HyperConverged-ModerationIT-Interview.pdf\"\n",
    "# raw = parser.from_file(file)\n",
    "# content = raw['content'].strip()\n",
    "# print(content[500:1000])"
   ]
  },
  {
   "cell_type": "code",
   "execution_count": null,
   "id": "5f34affd-51e1-40ed-ba47-48f326766fb3",
   "metadata": {},
   "outputs": [],
   "source": [
    "file = \"samples/20160219-APAC-AUSTRALIA-VICTRIA-MELBOURNE-ICT-HyperConverged-ModerationIT-Interview.pdf\"\n",
    "tika_url = \"http://localhost:9998/meta\"\n",
    "headers = {'Content-type': 'application/pdf', 'interview': file}\n",
    "r = requests.put(tika_url, data=open(file, 'rb'), headers=headers)\n",
    "print(r.text)"
   ]
  },
  {
   "cell_type": "markdown",
   "id": "d7c42d4b-3eed-4dd0-a4b2-893c1234486d",
   "metadata": {},
   "source": [
    "## Return pdf as txt\n",
    "\n",
    "### Note the headers content-type and accept"
   ]
  },
  {
   "cell_type": "code",
   "execution_count": null,
   "id": "623ad6f7-7def-4d6d-8d0f-8066d7127f34",
   "metadata": {},
   "outputs": [],
   "source": [
    "file = \"samples/20160219-APAC-AUSTRALIA-VICTRIA-MELBOURNE-ICT-HyperConverged-ModerationIT-Interview.pdf\"\n",
    "tika_url = \"http://localhost:9998/tika\"\n",
    "headers = {'Content-type': 'application/pdf', 'interview': file, 'Accept': 'text/plain'}\n",
    "r = requests.put(tika_url, data=open(file, 'rb'), headers=headers)\n",
    "print(r.text[:1000])"
   ]
  },
  {
   "cell_type": "code",
   "execution_count": null,
   "id": "5dfdbcbd-e198-41be-befd-15c8d9faa5ee",
   "metadata": {},
   "outputs": [],
   "source": [
    "file = \"samples/20160219-APAC-AUSTRALIA-VICTRIA-MELBOURNE-ICT-HyperConverged-ModerationIT-Interview.pdf\"\n",
    "tika_url = \"http://localhost:9998/detect/stream\"\n",
    "headers = {'Alice': file, 'Accept': 'text/plain'}\n",
    "r = requests.put(tika_url, data=open(file, 'rb'), headers=headers)\n",
    "print(r.text)"
   ]
  },
  {
   "cell_type": "code",
   "execution_count": null,
   "id": "ae0aa18c-56b1-4c7d-9147-9d3696c7c1ef",
   "metadata": {},
   "outputs": [],
   "source": [
    "# from tika import parser # pip install tika\n",
    "file = \"samples/20160219-APAC-AUSTRALIA-VICTRIA-MELBOURNE-ICT-HyperConverged-ModerationIT-Interview.pdf\"\n",
    "raw = parser.from_file(file)\n",
    "content = raw['content'].strip()\n",
    "print(content[500:1000])"
   ]
  },
  {
   "cell_type": "markdown",
   "id": "c06ec69c-e092-4d5f-8410-7562e10bed0a",
   "metadata": {},
   "source": [
    "# DOCX\n",
    "\n",
    "## Metadata"
   ]
  },
  {
   "cell_type": "code",
   "execution_count": null,
   "id": "9374bf7f-7105-4007-b6ed-2d400b9366a3",
   "metadata": {},
   "outputs": [],
   "source": [
    "file = \"samples/20140910-APAC-AUSTRALIA-ACT-CANBERRA-RESEARCH-Storage Beyond Panama-CSIRO-Transcript.docx\"\n",
    "tika_url = \"http://localhost:9998/meta\"\n",
    "headers = {'Content-type': 'application/vnd.openxmlformats-officedocument.wordprocessingml.document', 'interview': file}\n",
    "r = requests.put(tika_url, data=open(file, 'rb'), headers=headers)\n",
    "print(r.text)"
   ]
  },
  {
   "cell_type": "markdown",
   "id": "67ebd7e3-7412-4feb-a658-81de39cd2d10",
   "metadata": {},
   "source": [
    "## Get document type"
   ]
  },
  {
   "cell_type": "code",
   "execution_count": null,
   "id": "e6335f30-3083-4daf-9dd7-f59154c2b08a",
   "metadata": {},
   "outputs": [],
   "source": [
    "file = \"samples/20140910-APAC-AUSTRALIA-ACT-CANBERRA-RESEARCH-Storage Beyond Panama-CSIRO-Transcript.docx\"\n",
    "tika_url = \"http://localhost:9998/detect/stream\"\n",
    "headers = {'Alice': file, 'Accept': 'text/plain'}\n",
    "r = requests.put(tika_url, data=open(file, 'rb'), headers=headers)\n",
    "print(r.text)"
   ]
  },
  {
   "cell_type": "markdown",
   "id": "5a172543-46f8-47f4-b1c9-154f5fa84e95",
   "metadata": {},
   "source": [
    "## send doc format, get text"
   ]
  },
  {
   "cell_type": "code",
   "execution_count": null,
   "id": "c76b9958-3dc0-4d97-b252-36cca7ed7990",
   "metadata": {},
   "outputs": [],
   "source": [
    "file = \"samples/20140910-APAC-AUSTRALIA-ACT-CANBERRA-RESEARCH-Storage Beyond Panama-CSIRO-Transcript.docx\"\n",
    "tika_url = \"http://localhost:9998/tika\"\n",
    "headers = {'Content-type': 'application/vnd.openxmlformats-officedocument.wordprocessingml.document', 'interview': file, 'Accept': 'text/plain'}\n",
    "r = requests.put(tika_url, data=open(file, 'rb'), headers=headers)\n",
    "print(r.text[:1000])"
   ]
  },
  {
   "cell_type": "markdown",
   "id": "535fd608-7fd8-4a1c-b646-88b941e68d12",
   "metadata": {},
   "source": [
    "## send doc format, get html\n",
    "\n",
    "### /rmeta endpoint"
   ]
  },
  {
   "cell_type": "code",
   "execution_count": null,
   "id": "9af682a3-582e-4f55-ba21-34eb778253ee",
   "metadata": {},
   "outputs": [],
   "source": [
    "file = \"samples/20140910-APAC-AUSTRALIA-ACT-CANBERRA-RESEARCH-Storage Beyond Panama-CSIRO-Transcript.docx\"\n",
    "tika_url = \"http://localhost:9998/rmeta\"\n",
    "headers = {'interview': file}\n",
    "r = requests.put(tika_url, data=open(file, 'rb'), headers=headers)\n",
    "json.loads(r.text)[0]['X-TIKA:content'][:1000]"
   ]
  },
  {
   "cell_type": "markdown",
   "id": "9bac4a01-89d6-48df-9a60-2117686f92a8",
   "metadata": {},
   "source": [
    "## get text from docs using the tika python module"
   ]
  },
  {
   "cell_type": "code",
   "execution_count": null,
   "id": "1174f443-ccb7-4ec1-ab09-95043817a2c9",
   "metadata": {},
   "outputs": [],
   "source": [
    "# from tika import parser # pip install tika\n",
    "file = \"samples/20160219-APAC-AUSTRALIA-VICTRIA-MELBOURNE-ICT-HyperConverged-ModerationIT-Interview.pdf\"\n",
    "raw = parser.from_file(file)\n",
    "content = raw['content'].strip()\n",
    "print(content[500:1000])"
   ]
  },
  {
   "cell_type": "markdown",
   "id": "393b1564-64de-44cd-b788-eba37bfd8aa3",
   "metadata": {},
   "source": [
    "# CSV"
   ]
  },
  {
   "cell_type": "code",
   "execution_count": null,
   "id": "d66b134a-fef0-47fb-a711-96d741c64fc0",
   "metadata": {},
   "outputs": [],
   "source": [
    "!ls samples"
   ]
  },
  {
   "cell_type": "code",
   "execution_count": null,
   "id": "dcf70ee1-e3cd-4568-8d21-17599b77116e",
   "metadata": {},
   "outputs": [],
   "source": [
    "file = \"samples/bloomberg.csv\"\n",
    "tika_url = \"http://localhost:9998/detect/stream\"\n",
    "headers = {'Alice': file, 'Accept': 'text/plain'}\n",
    "r = requests.put(tika_url, data=open(file, 'rb'), headers=headers)\n",
    "print(r.text)"
   ]
  },
  {
   "cell_type": "code",
   "execution_count": null,
   "id": "2a7937af-645b-4bab-b7e0-71cb69bbbdab",
   "metadata": {},
   "outputs": [],
   "source": [
    "file = \"samples/bloomberg.csv\"\n",
    "tika_url = \"http://localhost:9998/meta\"\n",
    "headers = {'Content-type': 'text/plain', 'interview': file}\n",
    "r = requests.put(tika_url, data=open(file, 'rb'), headers=headers)\n",
    "print(r.text)"
   ]
  },
  {
   "cell_type": "code",
   "execution_count": null,
   "id": "596b28a0-9235-4c32-9c83-cca8e918d849",
   "metadata": {},
   "outputs": [],
   "source": [
    "file = \"samples/bloomberg.csv\"\n",
    "tika_url = \"http://localhost:9998/tika\"\n",
    "headers = {'Content-type': 'text/plain', 'interview': file, 'Accept': 'text/plain'}\n",
    "r = requests.put(tika_url, data=open(file, 'rb'), headers=headers)\n",
    "print(r.text)"
   ]
  },
  {
   "cell_type": "code",
   "execution_count": null,
   "id": "e2e17e63-fa95-4a86-8527-00d0d2a049ed",
   "metadata": {},
   "outputs": [],
   "source": [
    "# from tika import parser # pip install tika\n",
    "file = \"samples/bloomberg.csv\"\n",
    "raw = parser.from_file(file)\n",
    "content = raw['content'].strip()\n",
    "print(content)"
   ]
  },
  {
   "cell_type": "markdown",
   "id": "80c6c7e0-aa18-4a26-97a1-02afb6ae308a",
   "metadata": {},
   "source": [
    "# XLS"
   ]
  },
  {
   "cell_type": "code",
   "execution_count": null,
   "id": "b64bace8-6c07-46be-9428-9111a11da6f3",
   "metadata": {},
   "outputs": [],
   "source": [
    "file = \"samples/Canada-fiscalRefTable-trf-10-eng.xls\"\n",
    "tika_url = \"http://localhost:9998/detect/stream\"\n",
    "headers = {'Alice': file, 'Accept': 'text/plain'}\n",
    "r = requests.put(tika_url, data=open(file, 'rb'), headers=headers)\n",
    "print(r.text)"
   ]
  },
  {
   "cell_type": "code",
   "execution_count": null,
   "id": "84400838-faad-4c9e-917d-a18fd3087df5",
   "metadata": {},
   "outputs": [],
   "source": [
    "file = \"samples/Canada-fiscalRefTable-trf-10-eng.xls\"\n",
    "tika_url = \"http://localhost:9998/meta\"\n",
    "headers = {'Content-type': 'application/vnd.ms-excel', 'interview': file}\n",
    "r = requests.put(tika_url, data=open(file, 'rb'), headers=headers)\n",
    "print(r.text)"
   ]
  },
  {
   "cell_type": "code",
   "execution_count": null,
   "id": "c3393aaa-f8c0-4269-8c75-a462d7beebe9",
   "metadata": {},
   "outputs": [],
   "source": [
    "file = \"samples/Canada-fiscalRefTable-trf-10-eng.xls\"\n",
    "tika_url = \"http://localhost:9998/tika\"\n",
    "headers = {'Content-type': 'application/vnd.ms-excel', 'interview': file, 'Accept': 'text/plain'}\n",
    "r = requests.put(tika_url, data=open(file, 'rb'), headers=headers)\n",
    "print(r.text[22:1000])"
   ]
  },
  {
   "cell_type": "code",
   "execution_count": null,
   "id": "09a26bbb-632e-4bf5-ab32-56116fa1d22d",
   "metadata": {},
   "outputs": [],
   "source": [
    "# from tika import parser # pip install tika\n",
    "file = \"samples/Canada-fiscalRefTable-trf-10-eng.xls\"\n",
    "raw = parser.from_file(file)\n",
    "content = raw['content'].strip()\n",
    "print(content[22:1000])"
   ]
  },
  {
   "cell_type": "markdown",
   "id": "03541d0f-15da-4508-8576-fc930dee5fb2",
   "metadata": {},
   "source": [
    "# Email"
   ]
  },
  {
   "cell_type": "code",
   "execution_count": null,
   "id": "a833ab1c-e7bc-4627-a4fc-3e89746fba85",
   "metadata": {},
   "outputs": [],
   "source": [
    "!ls samples"
   ]
  },
  {
   "cell_type": "code",
   "execution_count": null,
   "id": "9378f534-655f-4ccc-bdf7-459d56af0a90",
   "metadata": {},
   "outputs": [],
   "source": [
    "file = \"samples/icechat.eml\"\n",
    "tika_url = \"http://localhost:9998/detect/stream\"\n",
    "headers = {'Alice': file, 'Accept': 'text/plain'}\n",
    "r = requests.put(tika_url, data=open(file, 'rb'), headers=headers)\n",
    "print(r.text)"
   ]
  },
  {
   "cell_type": "code",
   "execution_count": null,
   "id": "b85ccea1-7a1c-4fff-9e11-ff339bd6c906",
   "metadata": {},
   "outputs": [],
   "source": [
    "file = \"samples/Re Aixeon-HDS testing.msg\"\n",
    "tika_url = \"http://localhost:9998/detect/stream\"\n",
    "headers = {'Alice': file, 'Accept': 'text/plain'}\n",
    "r = requests.put(tika_url, data=open(file, 'rb'), headers=headers)\n",
    "print(r.text)"
   ]
  },
  {
   "cell_type": "code",
   "execution_count": null,
   "id": "c4184194-e33f-4ca8-a4d7-78747fcdc6be",
   "metadata": {},
   "outputs": [],
   "source": [
    "file = \"samples/icechat.eml\"\n",
    "tika_url = \"http://localhost:9998/meta\"\n",
    "headers = {'Content-type': 'message/rfc822', 'interview': file}\n",
    "r = requests.put(tika_url, data=open(file, 'rb'), headers=headers)\n",
    "print(r.text)"
   ]
  },
  {
   "cell_type": "code",
   "execution_count": null,
   "id": "f4922d84-9878-497f-bbcb-d744e862d610",
   "metadata": {},
   "outputs": [],
   "source": [
    "file = \"samples/Re Aixeon-HDS testing.msg\"\n",
    "tika_url = \"http://localhost:9998/meta\"\n",
    "headers = {'Content-type': 'application/vnd.ms-outlook', 'interview': file}\n",
    "r = requests.put(tika_url, data=open(file, 'rb'), headers=headers)\n",
    "print(r.text)"
   ]
  },
  {
   "cell_type": "code",
   "execution_count": null,
   "id": "ecd1f08d-4eb0-4aad-92a3-a02645a72575",
   "metadata": {},
   "outputs": [],
   "source": [
    "file = \"samples/icechat.eml\"\n",
    "tika_url = \"http://localhost:9998/tika\"\n",
    "headers = {'Content-type': 'message/rfc822', 'interview': file, 'Accept': 'text/plain'}\n",
    "r = requests.put(tika_url, data=open(file, 'rb'), headers=headers)\n",
    "print(r.text)"
   ]
  },
  {
   "cell_type": "code",
   "execution_count": null,
   "id": "1bdba194-2eb4-4293-82b6-05e0bb1a0316",
   "metadata": {},
   "outputs": [],
   "source": [
    "file = \"samples/Re Aixeon-HDS testing.msg\"\n",
    "tika_url = \"http://localhost:9998/tika\"\n",
    "headers = {'Content-type': 'application/vnd.ms-outlook', 'interview': file, 'Accept': 'text/plain'}\n",
    "r = requests.put(tika_url, data=open(file, 'rb'), headers=headers)\n",
    "print(r.text[:250])"
   ]
  },
  {
   "cell_type": "code",
   "execution_count": null,
   "id": "35417bc5-b7c7-4009-8b99-43fa494b2d29",
   "metadata": {},
   "outputs": [],
   "source": [
    "# from tika import parser # pip install tika\n",
    "file = \"samples/icechat.eml\"\n",
    "raw = parser.from_file(file)\n",
    "content = raw['content'].strip()\n",
    "print(content)"
   ]
  },
  {
   "cell_type": "code",
   "execution_count": null,
   "id": "2026c0d0-b449-4510-bd26-cbbcd36384dc",
   "metadata": {},
   "outputs": [],
   "source": [
    "# from tika import parser # pip install tika\n",
    "file = \"samples/Re Aixeon-HDS testing.msg\"\n",
    "raw = parser.from_file(file)\n",
    "content = raw['content'].strip()\n",
    "print(content[:200])"
   ]
  },
  {
   "cell_type": "markdown",
   "id": "24921016-73a7-4bfe-9e30-d0e8e4b5115e",
   "metadata": {},
   "source": [
    "# RTF"
   ]
  },
  {
   "cell_type": "code",
   "execution_count": null,
   "id": "18534621-5b4d-485d-93d9-b58a58ce71b4",
   "metadata": {},
   "outputs": [],
   "source": [
    "!ls samples"
   ]
  },
  {
   "cell_type": "code",
   "execution_count": null,
   "id": "0dba78e7-0855-4afd-b082-caef9addbc2f",
   "metadata": {},
   "outputs": [],
   "source": [
    "file = \"samples/Thinking In C++ 2nd Edition.rtf\"\n",
    "tika_url = \"http://localhost:9998/detect/stream\"\n",
    "headers = {'Alice': file, 'Accept': 'text/plain'}\n",
    "r = requests.put(tika_url, data=open(file, 'rb'), headers=headers)\n",
    "print(r.text)"
   ]
  },
  {
   "cell_type": "code",
   "execution_count": null,
   "id": "e08cc413-b6b6-4e6d-b542-de90af8fa13d",
   "metadata": {},
   "outputs": [],
   "source": [
    "file = \"samples/Thinking In C++ 2nd Edition.rtf\"\n",
    "tika_url = \"http://localhost:9998/meta\"\n",
    "headers = {'Content-type': 'application/rtf', 'interview': file}\n",
    "r = requests.put(tika_url, data=open(file, 'rb'), headers=headers)\n",
    "print(r.text)"
   ]
  },
  {
   "cell_type": "code",
   "execution_count": null,
   "id": "6a762238-1f2b-4a93-b44c-7266f3053105",
   "metadata": {},
   "outputs": [],
   "source": [
    "file = \"samples/Thinking In C++ 2nd Edition.rtf\"\n",
    "tika_url = \"http://localhost:9998/tika\"\n",
    "headers = {'Content-type': 'application/rtf', 'interview': file, 'Accept': 'text/plain'}\n",
    "r = requests.put(tika_url, data=open(file, 'rb'), headers=headers)\n",
    "print(r.text[:2000])"
   ]
  },
  {
   "cell_type": "code",
   "execution_count": null,
   "id": "5881b686-bccc-46a8-9209-47ae4eaecaa9",
   "metadata": {},
   "outputs": [],
   "source": [
    "# from tika import parser # pip install tika\n",
    "file = \"samples/Thinking In C++ 2nd Edition.rtf\"\n",
    "raw = parser.from_file(file)\n",
    "content = raw['content'].strip()\n",
    "print(content[:2000])"
   ]
  },
  {
   "cell_type": "markdown",
   "id": "d158f5ee-d20a-4e51-a823-ed37cce423df",
   "metadata": {},
   "source": [
    "# EPUB"
   ]
  },
  {
   "cell_type": "code",
   "execution_count": null,
   "id": "28254e56-d227-4944-b338-c30c9318b20b",
   "metadata": {},
   "outputs": [],
   "source": [
    "!ls samples"
   ]
  },
  {
   "cell_type": "code",
   "execution_count": null,
   "id": "3e06d763-5a34-4a80-bc5c-af60f186cf5b",
   "metadata": {},
   "outputs": [],
   "source": [
    "file = \"samples/workers-and-capital.epub\"\n",
    "tika_url = \"http://localhost:9998/detect/stream\"\n",
    "headers = {'Alice': file, 'Accept': 'text/plain'}\n",
    "r = requests.put(tika_url, data=open(file, 'rb'), headers=headers)\n",
    "print(r.text)"
   ]
  },
  {
   "cell_type": "code",
   "execution_count": null,
   "id": "f075d219-c501-49f4-91a4-bee7e32bbbce",
   "metadata": {},
   "outputs": [],
   "source": [
    "file = \"samples/workers-and-capital.epub\"\n",
    "tika_url = \"http://localhost:9998/meta\"\n",
    "headers = {'Content-type': 'application/epub+zip', 'interview': file}\n",
    "r = requests.put(tika_url, data=open(file, 'rb'), headers=headers)\n",
    "print(r.text)"
   ]
  },
  {
   "cell_type": "code",
   "execution_count": null,
   "id": "58d076c2-ab2b-4c12-8993-d8bc8c807946",
   "metadata": {},
   "outputs": [],
   "source": [
    "file = \"samples/workers-and-capital.epub\"\n",
    "tika_url = \"http://localhost:9998/tika\"\n",
    "headers = {'Content-type': 'application/epub+zip', 'interview': file, 'Accept': 'text/plain'}\n",
    "r = requests.put(tika_url, data=open(file, 'rb'), headers=headers)\n",
    "print(r.text[3000:6000])"
   ]
  },
  {
   "cell_type": "code",
   "execution_count": null,
   "id": "ac6cca17-3b9d-4e7c-bfe3-b982f2715a9f",
   "metadata": {},
   "outputs": [],
   "source": [
    "# from tika import parser # pip install tika\n",
    "file = \"samples/workers-and-capital.epub\"\n",
    "raw = parser.from_file(file)\n",
    "content = raw['content'].strip()\n",
    "print(content[3000:6000])"
   ]
  },
  {
   "cell_type": "code",
   "execution_count": null,
   "id": "edf4cbc2-f9c9-4ed1-8b77-e75e6f9e1799",
   "metadata": {},
   "outputs": [],
   "source": []
  },
  {
   "cell_type": "code",
   "execution_count": null,
   "id": "19ec5aee-5aad-42c5-ba9f-1a0b8be92828",
   "metadata": {},
   "outputs": [],
   "source": []
  },
  {
   "cell_type": "code",
   "execution_count": null,
   "id": "7cd0c177-1e92-4036-8aaf-d675a72f759c",
   "metadata": {},
   "outputs": [],
   "source": []
  },
  {
   "cell_type": "code",
   "execution_count": null,
   "id": "684e6e2d-5ea4-4a6f-8bce-d7f50590133a",
   "metadata": {},
   "outputs": [],
   "source": []
  }
 ],
 "metadata": {
  "kernelspec": {
   "display_name": "Python 3 (ipykernel)",
   "language": "python",
   "name": "python3"
  },
  "language_info": {
   "codemirror_mode": {
    "name": "ipython",
    "version": 3
   },
   "file_extension": ".py",
   "mimetype": "text/x-python",
   "name": "python",
   "nbconvert_exporter": "python",
   "pygments_lexer": "ipython3",
   "version": "3.11.0"
  }
 },
 "nbformat": 4,
 "nbformat_minor": 5
}
