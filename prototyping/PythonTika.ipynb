{
 "cells": [
  {
   "cell_type": "code",
   "execution_count": 2,
   "id": "13af689b-c1cf-4c3c-9d2b-43d7a713d4dd",
   "metadata": {},
   "outputs": [],
   "source": [
    "import tika\n",
    "from tika import parser, config"
   ]
  },
  {
   "cell_type": "code",
   "execution_count": 11,
   "id": "e24ea707-78b9-4587-bec3-26a8130b8913",
   "metadata": {},
   "outputs": [
    {
     "name": "stderr",
     "output_type": "stream",
     "text": [
      "2022-07-05 18:56:08,784 [MainThread  ] [INFO ]  Retrieving https://www.exasol.com/ to /tmp/.\n"
     ]
    },
    {
     "ename": "IsADirectoryError",
     "evalue": "[Errno 21] Is a directory: '/tmp/'",
     "output_type": "error",
     "traceback": [
      "\u001b[0;31m---------------------------------------------------------------------------\u001b[0m",
      "\u001b[0;31mIsADirectoryError\u001b[0m                         Traceback (most recent call last)",
      "File \u001b[0;32m~/mediumroast/mediumroast/lib/python3.8/site-packages/tika/tika.py:772\u001b[0m, in \u001b[0;36mgetRemoteFile\u001b[0;34m(urlOrPath, destPath)\u001b[0m\n\u001b[1;32m    771\u001b[0m \u001b[38;5;28;01mtry\u001b[39;00m:\n\u001b[0;32m--> 772\u001b[0m     \u001b[43murlretrieve\u001b[49m\u001b[43m(\u001b[49m\u001b[43murlOrPath\u001b[49m\u001b[43m,\u001b[49m\u001b[43m \u001b[49m\u001b[43mdestPath\u001b[49m\u001b[43m)\u001b[49m\n\u001b[1;32m    773\u001b[0m \u001b[38;5;28;01mexcept\u001b[39;00m \u001b[38;5;167;01mIOError\u001b[39;00m:\n\u001b[1;32m    774\u001b[0m     \u001b[38;5;66;03m# monkey patch fix for SSL/Windows per Tika-Python #54 \u001b[39;00m\n\u001b[1;32m    775\u001b[0m     \u001b[38;5;66;03m# https://github.com/chrismattmann/tika-python/issues/54\u001b[39;00m\n",
      "File \u001b[0;32m/usr/lib/python3.8/urllib/request.py:257\u001b[0m, in \u001b[0;36murlretrieve\u001b[0;34m(url, filename, reporthook, data)\u001b[0m\n\u001b[1;32m    256\u001b[0m \u001b[38;5;28;01mif\u001b[39;00m filename:\n\u001b[0;32m--> 257\u001b[0m     tfp \u001b[38;5;241m=\u001b[39m \u001b[38;5;28;43mopen\u001b[39;49m\u001b[43m(\u001b[49m\u001b[43mfilename\u001b[49m\u001b[43m,\u001b[49m\u001b[43m \u001b[49m\u001b[38;5;124;43m'\u001b[39;49m\u001b[38;5;124;43mwb\u001b[39;49m\u001b[38;5;124;43m'\u001b[39;49m\u001b[43m)\u001b[49m\n\u001b[1;32m    258\u001b[0m \u001b[38;5;28;01melse\u001b[39;00m:\n",
      "\u001b[0;31mIsADirectoryError\u001b[0m: [Errno 21] Is a directory: '/tmp/'",
      "\nDuring handling of the above exception, another exception occurred:\n",
      "\u001b[0;31mIsADirectoryError\u001b[0m                         Traceback (most recent call last)",
      "Input \u001b[0;32mIn [11]\u001b[0m, in \u001b[0;36m<cell line: 5>\u001b[0;34m()\u001b[0m\n\u001b[1;32m      1\u001b[0m \u001b[38;5;66;03m#parsed = parser.from_file('/path/to/file/location', 'http://skynet-jr:9998/tika')\u001b[39;00m\n\u001b[1;32m      2\u001b[0m \u001b[38;5;66;03m# string_parsed = parser.from_buffer('Good evening, Dave', 'http://skynet-jr:9998/tika')\u001b[39;00m\n\u001b[1;32m      3\u001b[0m \u001b[38;5;66;03m# string_parsed['content'].strip()\u001b[39;00m\n\u001b[0;32m----> 5\u001b[0m \u001b[43mparser\u001b[49m\u001b[38;5;241;43m.\u001b[39;49m\u001b[43mfrom_file\u001b[49m\u001b[43m(\u001b[49m\u001b[38;5;124;43m'\u001b[39;49m\u001b[38;5;124;43mhttps://www.exasol.com/\u001b[39;49m\u001b[38;5;124;43m'\u001b[39;49m\u001b[43m,\u001b[49m\u001b[43m \u001b[49m\u001b[38;5;124;43m'\u001b[39;49m\u001b[38;5;124;43mhttp://skynet-jr:9998/tika\u001b[39;49m\u001b[38;5;124;43m'\u001b[39;49m\u001b[43m)\u001b[49m\n",
      "File \u001b[0;32m~/mediumroast/mediumroast/lib/python3.8/site-packages/tika/parser.py:40\u001b[0m, in \u001b[0;36mfrom_file\u001b[0;34m(filename, serverEndpoint, service, xmlContent, headers, config_path, requestOptions)\u001b[0m\n\u001b[1;32m     24\u001b[0m \u001b[38;5;124;03m'''\u001b[39;00m\n\u001b[1;32m     25\u001b[0m \u001b[38;5;124;03mParses a file for metadata and content\u001b[39;00m\n\u001b[1;32m     26\u001b[0m \u001b[38;5;124;03m:param filename: path to file which needs to be parsed or binary file using open(path,'rb')\u001b[39;00m\n\u001b[0;32m   (...)\u001b[0m\n\u001b[1;32m     37\u001b[0m \u001b[38;5;124;03m        'content' has a str value and metadata has a dict type value.\u001b[39;00m\n\u001b[1;32m     38\u001b[0m \u001b[38;5;124;03m'''\u001b[39;00m\n\u001b[1;32m     39\u001b[0m \u001b[38;5;28;01mif\u001b[39;00m \u001b[38;5;129;01mnot\u001b[39;00m xmlContent:\n\u001b[0;32m---> 40\u001b[0m     output \u001b[38;5;241m=\u001b[39m \u001b[43mparse1\u001b[49m\u001b[43m(\u001b[49m\u001b[43mservice\u001b[49m\u001b[43m,\u001b[49m\u001b[43m \u001b[49m\u001b[43mfilename\u001b[49m\u001b[43m,\u001b[49m\u001b[43m \u001b[49m\u001b[43mserverEndpoint\u001b[49m\u001b[43m,\u001b[49m\u001b[43m \u001b[49m\u001b[43mheaders\u001b[49m\u001b[38;5;241;43m=\u001b[39;49m\u001b[43mheaders\u001b[49m\u001b[43m,\u001b[49m\u001b[43m \u001b[49m\u001b[43mconfig_path\u001b[49m\u001b[38;5;241;43m=\u001b[39;49m\u001b[43mconfig_path\u001b[49m\u001b[43m,\u001b[49m\u001b[43m \u001b[49m\u001b[43mrequestOptions\u001b[49m\u001b[38;5;241;43m=\u001b[39;49m\u001b[43mrequestOptions\u001b[49m\u001b[43m)\u001b[49m\n\u001b[1;32m     41\u001b[0m \u001b[38;5;28;01melse\u001b[39;00m:\n\u001b[1;32m     42\u001b[0m     output \u001b[38;5;241m=\u001b[39m parse1(service, filename, serverEndpoint, services\u001b[38;5;241m=\u001b[39m{\u001b[38;5;124m'\u001b[39m\u001b[38;5;124mmeta\u001b[39m\u001b[38;5;124m'\u001b[39m: \u001b[38;5;124m'\u001b[39m\u001b[38;5;124m/meta\u001b[39m\u001b[38;5;124m'\u001b[39m, \u001b[38;5;124m'\u001b[39m\u001b[38;5;124mtext\u001b[39m\u001b[38;5;124m'\u001b[39m: \u001b[38;5;124m'\u001b[39m\u001b[38;5;124m/tika\u001b[39m\u001b[38;5;124m'\u001b[39m, \u001b[38;5;124m'\u001b[39m\u001b[38;5;124mall\u001b[39m\u001b[38;5;124m'\u001b[39m: \u001b[38;5;124m'\u001b[39m\u001b[38;5;124m/rmeta/xml\u001b[39m\u001b[38;5;124m'\u001b[39m},\n\u001b[1;32m     43\u001b[0m                         headers\u001b[38;5;241m=\u001b[39mheaders, config_path\u001b[38;5;241m=\u001b[39mconfig_path, requestOptions\u001b[38;5;241m=\u001b[39mrequestOptions)\n",
      "File \u001b[0;32m~/mediumroast/mediumroast/lib/python3.8/site-packages/tika/tika.py:327\u001b[0m, in \u001b[0;36mparse1\u001b[0;34m(option, urlOrPath, serverEndpoint, verbose, tikaServerJar, responseMimeType, services, rawResponse, headers, config_path, requestOptions)\u001b[0m\n\u001b[1;32m    312\u001b[0m \u001b[38;5;124;03m'''\u001b[39;00m\n\u001b[1;32m    313\u001b[0m \u001b[38;5;124;03mParse the object and return extracted metadata and/or text in JSON format.\u001b[39;00m\n\u001b[1;32m    314\u001b[0m \u001b[38;5;124;03m:param option:\u001b[39;00m\n\u001b[0;32m   (...)\u001b[0m\n\u001b[1;32m    323\u001b[0m \u001b[38;5;124;03m:return:\u001b[39;00m\n\u001b[1;32m    324\u001b[0m \u001b[38;5;124;03m'''\u001b[39;00m\n\u001b[1;32m    325\u001b[0m headers \u001b[38;5;241m=\u001b[39m headers \u001b[38;5;129;01mor\u001b[39;00m {}\n\u001b[0;32m--> 327\u001b[0m path, file_type \u001b[38;5;241m=\u001b[39m \u001b[43mgetRemoteFile\u001b[49m\u001b[43m(\u001b[49m\u001b[43murlOrPath\u001b[49m\u001b[43m,\u001b[49m\u001b[43m \u001b[49m\u001b[43mTikaFilesPath\u001b[49m\u001b[43m)\u001b[49m\n\u001b[1;32m    328\u001b[0m headers\u001b[38;5;241m.\u001b[39mupdate({\u001b[38;5;124m'\u001b[39m\u001b[38;5;124mAccept\u001b[39m\u001b[38;5;124m'\u001b[39m: responseMimeType, \u001b[38;5;124m'\u001b[39m\u001b[38;5;124mContent-Disposition\u001b[39m\u001b[38;5;124m'\u001b[39m: make_content_disposition_header(path\u001b[38;5;241m.\u001b[39mencode(\u001b[38;5;124m'\u001b[39m\u001b[38;5;124mutf-8\u001b[39m\u001b[38;5;124m'\u001b[39m) \u001b[38;5;28;01mif\u001b[39;00m \u001b[38;5;28mtype\u001b[39m(path) \u001b[38;5;129;01mis\u001b[39;00m unicode_string \u001b[38;5;28;01melse\u001b[39;00m path)})\n\u001b[1;32m    330\u001b[0m \u001b[38;5;28;01mif\u001b[39;00m option \u001b[38;5;129;01mnot\u001b[39;00m \u001b[38;5;129;01min\u001b[39;00m services:\n",
      "File \u001b[0;32m~/mediumroast/mediumroast/lib/python3.8/site-packages/tika/tika.py:782\u001b[0m, in \u001b[0;36mgetRemoteFile\u001b[0;34m(urlOrPath, destPath)\u001b[0m\n\u001b[1;32m    780\u001b[0m     \u001b[38;5;28;01mif\u001b[39;00m os\u001b[38;5;241m.\u001b[39mpath\u001b[38;5;241m.\u001b[39mexists(destPath) \u001b[38;5;129;01mand\u001b[39;00m os\u001b[38;5;241m.\u001b[39mpath\u001b[38;5;241m.\u001b[39misfile(destPath):\n\u001b[1;32m    781\u001b[0m         os\u001b[38;5;241m.\u001b[39mremove(destPath)\n\u001b[0;32m--> 782\u001b[0m     \u001b[43murlretrieve\u001b[49m\u001b[43m(\u001b[49m\u001b[43murlOrPath\u001b[49m\u001b[43m,\u001b[49m\u001b[43m \u001b[49m\u001b[43mdestPath\u001b[49m\u001b[43m)\u001b[49m\n\u001b[1;32m    783\u001b[0m \u001b[38;5;28;01mreturn\u001b[39;00m (destPath, \u001b[38;5;124m'\u001b[39m\u001b[38;5;124mremote\u001b[39m\u001b[38;5;124m'\u001b[39m)\n",
      "File \u001b[0;32m/usr/lib/python3.8/urllib/request.py:257\u001b[0m, in \u001b[0;36murlretrieve\u001b[0;34m(url, filename, reporthook, data)\u001b[0m\n\u001b[1;32m    255\u001b[0m \u001b[38;5;66;03m# Handle temporary file setup.\u001b[39;00m\n\u001b[1;32m    256\u001b[0m \u001b[38;5;28;01mif\u001b[39;00m filename:\n\u001b[0;32m--> 257\u001b[0m     tfp \u001b[38;5;241m=\u001b[39m \u001b[38;5;28;43mopen\u001b[39;49m\u001b[43m(\u001b[49m\u001b[43mfilename\u001b[49m\u001b[43m,\u001b[49m\u001b[43m \u001b[49m\u001b[38;5;124;43m'\u001b[39;49m\u001b[38;5;124;43mwb\u001b[39;49m\u001b[38;5;124;43m'\u001b[39;49m\u001b[43m)\u001b[49m\n\u001b[1;32m    258\u001b[0m \u001b[38;5;28;01melse\u001b[39;00m:\n\u001b[1;32m    259\u001b[0m     tfp \u001b[38;5;241m=\u001b[39m tempfile\u001b[38;5;241m.\u001b[39mNamedTemporaryFile(delete\u001b[38;5;241m=\u001b[39m\u001b[38;5;28;01mFalse\u001b[39;00m)\n",
      "\u001b[0;31mIsADirectoryError\u001b[0m: [Errno 21] Is a directory: '/tmp/'"
     ]
    }
   ],
   "source": [
    "#parsed = parser.from_file('/path/to/file/location', 'http://skynet-jr:9998/tika')\n",
    "# string_parsed = parser.from_buffer('Good evening, Dave', 'http://skynet-jr:9998/tika')\n",
    "# string_parsed['content'].strip()\n",
    "\n",
    "parser.from_file('https://www.exasol.com/', 'http://skynet-jr:9998/tika')"
   ]
  },
  {
   "cell_type": "code",
   "execution_count": null,
   "id": "0c06b185-b1c7-4973-8701-f0d9399963ca",
   "metadata": {},
   "outputs": [],
   "source": []
  },
  {
   "cell_type": "code",
   "execution_count": null,
   "id": "9900c6bf-6d03-4ff8-b8af-296629413d49",
   "metadata": {},
   "outputs": [],
   "source": []
  },
  {
   "cell_type": "code",
   "execution_count": null,
   "id": "f4f98f83-2f93-4459-9aae-1f04446833ce",
   "metadata": {},
   "outputs": [],
   "source": []
  },
  {
   "cell_type": "code",
   "execution_count": null,
   "id": "51ba86d2-523d-4af1-b18a-5c7d55de910c",
   "metadata": {},
   "outputs": [],
   "source": []
  }
 ],
 "metadata": {
  "kernelspec": {
   "display_name": "Python 3 (ipykernel)",
   "language": "python",
   "name": "python3"
  },
  "language_info": {
   "codemirror_mode": {
    "name": "ipython",
    "version": 3
   },
   "file_extension": ".py",
   "mimetype": "text/x-python",
   "name": "python",
   "nbconvert_exporter": "python",
   "pygments_lexer": "ipython3",
   "version": "3.8.10"
  }
 },
 "nbformat": 4,
 "nbformat_minor": 5
}
