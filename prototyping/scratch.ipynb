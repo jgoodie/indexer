{
 "cells": [
  {
   "cell_type": "code",
   "execution_count": 1,
   "id": "ddcdc57c-449b-4ff5-8cec-dd18c0ae1354",
   "metadata": {},
   "outputs": [],
   "source": [
    "import os\n",
    "import sys\n",
    "import pycurl\n",
    "import hashlib\n",
    "import sqlite3\n",
    "import requests\n",
    "import numpy as np\n",
    "import pandas as pd\n",
    "from io import BytesIO\n",
    "from datetime import datetime\n",
    "import matplotlib.pyplot as plt\n",
    "\n",
    "%matplotlib inline"
   ]
  },
  {
   "cell_type": "code",
   "execution_count": 10,
   "id": "30794b63-b801-49ac-9cec-d92984e42e9a",
   "metadata": {},
   "outputs": [],
   "source": [
    "def table_exists(db='document.db', table='documents'):\n",
    "    con=sqlite3.connect(db)\n",
    "    cur = con.cursor()\n",
    "    query = f\"\"\"SELECT name FROM sqlite_master WHERE type='table' AND name=\"{table}\";\"\"\"\n",
    "    cur.execute(query)\n",
    "    if len(cur.fetchall()) > 0:\n",
    "        con.close()\n",
    "        return True\n",
    "    else: \n",
    "        con.close()\n",
    "        return False\n",
    "\n",
    "def create_table(db=\"document.db\", table=\"documents\"):\n",
    "    # hash, filename, filepath, filetype, size, accesstime, modtime, createtime\n",
    "    con=sqlite3.connect(db)\n",
    "    cur = con.cursor()\n",
    "    query = f\"\"\"\n",
    "            CREATE TABLE '{table}' (\n",
    "                hash TEXT NOT NULL, \n",
    "                filename TEXT NOT NULL, \n",
    "                filepath TEXT NOT NULL,\n",
    "                filetype TEXT,\n",
    "                size REAL,\n",
    "                accesstime TEXT,\n",
    "                modtime TEXT,\n",
    "                createtime TEXT,\n",
    "                metadata TEXT,\n",
    "                summary TEXT,\n",
    "                topics TEXT\n",
    "            );\n",
    "            \"\"\"\n",
    "    try:\n",
    "        cur.execute(query)\n",
    "        con.commit()\n",
    "        con.close()\n",
    "        return None\n",
    "    except Exception as e: \n",
    "        con.close()\n",
    "        return e\n",
    "    \n",
    "def drop_table(db=\"document.db\", table=\"documents\"):\n",
    "    con=sqlite3.connect(db)\n",
    "    cur = con.cursor()\n",
    "    query = f\"DROP TABLE '{table}';\"\n",
    "    try:\n",
    "        cur.execute(query)\n",
    "        con.commit()\n",
    "        con.close()\n",
    "        return None\n",
    "    except Exception as e: \n",
    "        con.close()\n",
    "        return e\n",
    "    \n",
    "def gen_md5(file):\n",
    "    return hashlib.md5(open(file,'rb').read()).hexdigest()\n",
    "\n",
    "def _metadata(tika_url = \"http://localhost:9998/meta\", file=None):\n",
    "    if not file:\n",
    "        return 0\n",
    "    headers = {\"Content-type\": \"application/pdf\", \n",
    "           \"X-Tika-PDFocrStrategy\": \"no_ocr\",\n",
    "           \"X-Tika-Timeout-Millis\": \"300000\",\n",
    "           \"file\": file}\n",
    "    r = requests.put(tika_url, data=open(file, mode='rb'), headers=headers)\n",
    "    return r.text\n",
    "\n",
    "def _metadata_curl(tika_url = \"http://localhost:9998/meta\", file=None):\n",
    "    if not file:\n",
    "        return 0\n",
    "    buffer = BytesIO()\n",
    "    c = pycurl.Curl()\n",
    "    c.setopt(c.URL, tika_url)\n",
    "    c.setopt(c.UPLOAD, 1)\n",
    "    c.setopt(c.HTTPHEADER, ['Content-type: application/pdf','X-Tika-PDFocrStrategy: no_ocr'])\n",
    "    f = open(file, 'rb')\n",
    "    c.setopt(c.READDATA, f)\n",
    "    c.setopt(c.VERBOSE, False)\n",
    "    c.setopt(c.WRITEDATA, buffer)\n",
    "    c.perform()\n",
    "    c.close()\n",
    "    f.close()\n",
    "    return buffer.getvalue().decode(\"utf-8\")\n",
    "\n",
    "def get_metadata(tika_url = \"http://localhost:9998/meta\", file=None):\n",
    "    try:\n",
    "        metadata = _metadata(file=file)\n",
    "        return metadata\n",
    "    except Exception as e1:\n",
    "        try:\n",
    "            metadata = _metadata_curl(file=file)\n",
    "            return metadata\n",
    "        except Exception as e2:\n",
    "            print(f\"bailing out: {file}\")\n",
    "            return -1\n",
    "\n",
    "def indexer(base_path = \".\"):\n",
    "    fn, fp, ft, sz, at, mt, ct, md5, metadata, summary, topics = [], [], [], [], [], [], [], [], [], [], []\n",
    "    for root, dirs, files in os.walk(base_path, topdown=False):\n",
    "        for name in files:\n",
    "            f = os.path.join(root, name)\n",
    "            stat = os.stat(f) #st_size, st_atime, st_mtime, st_ctime\n",
    "            fn.append(name)\n",
    "            fp.append(f)\n",
    "            md5.append(gen_md5(f))\n",
    "            ft.append(os.path.splitext(f)[-1].split('.')[-1])\n",
    "            sz.append(stat.st_size)\n",
    "            at.append(datetime.fromtimestamp(stat.st_atime))\n",
    "            mt.append(datetime.fromtimestamp(stat.st_mtime))\n",
    "            ct.append(datetime.fromtimestamp(stat.st_ctime))\n",
    "            metadata.append(None)\n",
    "            summary.append(None)\n",
    "            topics.append(None)\n",
    "    return {\"hash\":md5, \"filename\":fn, \"filepath\":fp, \"filetype\":ft, \"size\":sz, \"accesstime\":at, \n",
    "            \"modtime\":mt, \"createtime\":ct, \"metadata\":metadata, \"summary\":summary, \"topics\":topics}\n",
    "\n",
    "\n",
    "def dump_table(db=\"document.db\", table=\"documents\", values = None):\n",
    "    con=sqlite3.connect(db)\n",
    "    cur = con.cursor()\n",
    "    query = f\"SELECT * FROM '{table}';\"\n",
    "    cur.execute(query)\n",
    "    res = cur.fetchall()\n",
    "    con.close()\n",
    "    return res\n",
    "\n",
    "def insert(db=\"document.db\", table=\"documents\", values = None):\n",
    "    if not values:\n",
    "        return 0\n",
    "    con=sqlite3.connect(db)\n",
    "    cur = con.cursor()\n",
    "    query = f\"\"\" INSERT INTO '{table}' \n",
    "                 (hash, filename, filepath, filetype, size, accesstime, modtime, createtime, metadata, summary, topics)\n",
    "             VALUES (?, ?, ?, ?, ?, ?, ?, ?, ?, ?, ?)\"\"\"\n",
    "    try:\n",
    "        res = cur.executemany(query, values)\n",
    "        con.commit()\n",
    "        return 0\n",
    "    except Exception as e:\n",
    "        return e\n",
    "    return res\n",
    "\n",
    "def run_indexer():\n",
    "    d = indexer(base_path = \".\")\n",
    "    file_info = list(zip(d[\"hash\"], d[\"filename\"], d[\"filepath\"], d[\"filetype\"], \n",
    "                     d[\"size\"], d[\"accesstime\"], d[\"modtime\"], \n",
    "                     d['createtime'], d['metadata'], d['summary'], d['topics']))\n",
    "    return file_info\n"
   ]
  },
  {
   "cell_type": "code",
   "execution_count": 17,
   "id": "a322d2a6-3144-4862-a2a1-06f890abf3e5",
   "metadata": {},
   "outputs": [],
   "source": [
    "#drop_table()"
   ]
  },
  {
   "cell_type": "code",
   "execution_count": 18,
   "id": "4b8cdaf8-91ae-4d19-bcc3-114b14c4ba0a",
   "metadata": {},
   "outputs": [
    {
     "data": {
      "text/plain": [
       "0"
      ]
     },
     "execution_count": 18,
     "metadata": {},
     "output_type": "execute_result"
    }
   ],
   "source": [
    "create_table()\n",
    "insert(values=run_indexer())"
   ]
  },
  {
   "cell_type": "code",
   "execution_count": 19,
   "id": "6fdc7310-f02d-449b-9218-44bf154a553d",
   "metadata": {},
   "outputs": [],
   "source": [
    "db=\"document.db\"\n",
    "table=\"documents\"\n",
    "\n",
    "con=sqlite3.connect(db)\n",
    "cur = con.cursor()\n",
    "query = f\"\"\"SELECT filename, filepath, hash FROM '{table}' WHERE metadata IS NULL\"\"\"\n",
    "cur.execute(query)\n",
    "res = cur.fetchall()\n",
    "con.close()\n"
   ]
  },
  {
   "cell_type": "code",
   "execution_count": 22,
   "id": "c1c0a3d4-f4df-417b-9c3b-6d49a6c181c7",
   "metadata": {},
   "outputs": [
    {
     "data": {
      "text/plain": [
       "[('Hands-On Machine Learning with Scikit-Learn _ Tensorflow [Geron].pdf',\n",
       "  './Books/Hands-On Machine Learning with Scikit-Learn _ Tensorflow [Geron].pdf',\n",
       "  '5fb4755551e96acf31bd64d9585f7760'),\n",
       " ('Fundamentals of Differential Equations [Nagle, Saff, Snider] 8th Edition.pdf',\n",
       "  './Books/Fundamentals of Differential Equations [Nagle, Saff, Snider] 8th Edition.pdf',\n",
       "  '3b0ff6478a51cf2e0689c32d98c04660'),\n",
       " ('Mechanics of Materials (Solids) [Hibbeler] 10th Edition.pdf',\n",
       "  './Books/Mechanics of Materials (Solids) [Hibbeler] 10th Edition.pdf',\n",
       "  '4acd24e97a0540d9e09a7997dd290621'),\n",
       " ('Engineering Mechanics_ Dynamics [Fowler, Bedford].pdf',\n",
       "  './Books/Engineering Mechanics_ Dynamics [Fowler, Bedford].pdf',\n",
       "  'cb725acfb5e715d280c3688e4a1131a2'),\n",
       " ('Calculus_ Early Transcendentals [James Stewart] 7th Edition.docx',\n",
       "  './Books/Calculus_ Early Transcendentals [James Stewart] 7th Edition.docx',\n",
       "  '31ffb1b13dc48e9924981845e891251d')]"
      ]
     },
     "execution_count": 22,
     "metadata": {},
     "output_type": "execute_result"
    }
   ],
   "source": [
    "res[:5]"
   ]
  },
  {
   "cell_type": "code",
   "execution_count": null,
   "id": "a231bb0e-734c-4676-b64f-1153e7208d3e",
   "metadata": {},
   "outputs": [],
   "source": []
  },
  {
   "cell_type": "code",
   "execution_count": null,
   "id": "8a87be34-16e4-4d92-9289-60db76e31abe",
   "metadata": {},
   "outputs": [],
   "source": []
  },
  {
   "cell_type": "code",
   "execution_count": null,
   "id": "aea8a0e9-92ef-44da-9eb7-9b3fbba6e542",
   "metadata": {},
   "outputs": [],
   "source": []
  },
  {
   "cell_type": "code",
   "execution_count": null,
   "id": "4c4c809b-4202-4771-ab79-d16e6e0720a1",
   "metadata": {},
   "outputs": [],
   "source": []
  },
  {
   "cell_type": "code",
   "execution_count": null,
   "id": "142aa61c-56e4-4d69-b0be-7a4131278776",
   "metadata": {},
   "outputs": [],
   "source": []
  },
  {
   "cell_type": "code",
   "execution_count": null,
   "id": "832b6b08-28b4-40b2-b42b-d831061f4a2c",
   "metadata": {},
   "outputs": [],
   "source": []
  },
  {
   "cell_type": "code",
   "execution_count": null,
   "id": "4f93ceed-2be0-40ad-b08a-9f91513d097e",
   "metadata": {},
   "outputs": [],
   "source": []
  },
  {
   "cell_type": "code",
   "execution_count": null,
   "id": "069c1f3a-7098-41cf-9016-3b1966ce0bff",
   "metadata": {},
   "outputs": [],
   "source": []
  },
  {
   "cell_type": "code",
   "execution_count": null,
   "id": "5cd319fb-48bf-4467-a806-2f0ac1745db0",
   "metadata": {},
   "outputs": [],
   "source": []
  },
  {
   "cell_type": "code",
   "execution_count": null,
   "id": "99c1a267-228a-422e-9594-54c257532a53",
   "metadata": {},
   "outputs": [],
   "source": []
  },
  {
   "cell_type": "code",
   "execution_count": null,
   "id": "f34018c8-d2e3-497e-a661-408c037196de",
   "metadata": {},
   "outputs": [],
   "source": []
  },
  {
   "cell_type": "code",
   "execution_count": null,
   "id": "71168444-e06a-4605-bf3d-88d8f2f71d96",
   "metadata": {},
   "outputs": [],
   "source": [
    "# headers = {\n",
    "#     \"X-Tika-OCRLanguage\": \"eng\",\n",
    "#     \"X-Tika-OCRTimeout\": \"300\",\n",
    "#     \"X-Tika-PDFocrStrategy\": \"auto\"\n",
    "# }\n",
    "# headers = {\"Content-type\": \"application/pdf\", \n",
    "#            \"X-Tika-OCRLanguage\": \"eng\", \n",
    "#            \"X-Tika-PDFocrStrategy\": \"auto\", \n",
    "#            \"X-Tika-OCRTimeout\": \"500\", \n",
    "#            \"file\": file}"
   ]
  },
  {
   "cell_type": "code",
   "execution_count": null,
   "id": "867bd13d-5c02-4c56-8318-ffa9b4b74a9e",
   "metadata": {},
   "outputs": [],
   "source": [
    "# https://stackoverflow.com/questions/3634984/insert-if-not-exists-else-update\n",
    "# https://stackoverflow.com/questions/418898/sqlite-upsert-not-insert-or-replace\n",
    "# https://stackoverflow.com/questions/15277373/sqlite-upsert-update-or-insert"
   ]
  },
  {
   "cell_type": "code",
   "execution_count": null,
   "id": "c5e43510-de6f-44cb-80cc-e59d716fa4d2",
   "metadata": {},
   "outputs": [],
   "source": [
    "# df = pd.DataFrame(d)\n",
    "# df[['filename', 'hash']].head(5)"
   ]
  },
  {
   "cell_type": "code",
   "execution_count": null,
   "id": "fc8adb43-13eb-4f30-80a4-6a70c485c1bc",
   "metadata": {},
   "outputs": [],
   "source": [
    "#gen_md5(file=file_info[1][-2])"
   ]
  },
  {
   "cell_type": "code",
   "execution_count": null,
   "id": "a92eee07-19bd-46f2-8966-7194811222a8",
   "metadata": {},
   "outputs": [],
   "source": [
    "# https://docs.python.org/3/library/sqlite3.html\n",
    "# con = sqlite3.connect(\"document.db\")\n",
    "# cur = con.cursor()"
   ]
  },
  {
   "cell_type": "code",
   "execution_count": null,
   "id": "537a5e45-32d2-4a94-9884-69b35cbf2491",
   "metadata": {},
   "outputs": [],
   "source": [
    "# for root, dirs, files in os.walk(\".\", topdown=False):\n",
    "#     for name in files:\n",
    "#         print(os.path.join(root, name))\n",
    "#     for name in dirs:\n",
    "#         print(os.path.join(root, name))\n",
    "\n",
    "# file_size = os.stat('d:/file.jpg')\n",
    "# print(\"Size of file :\", file_size.st_size, \"bytes\")\n",
    "\n",
    "# Cross-platform way to get file modification time in Python. \n",
    "# It returns the Unix timestamp of when the file was last modified.\n",
    "# os.path.getmtime(path)\n",
    "\n",
    "# path = 'D:\\Work TP.py'\n",
    "# # declaring the variable to get the result\n",
    "# result = os.path.splitext(path)\n",
    "\n",
    "# print('Path:', result[0])\n",
    "# print('Extension:', result[1])"
   ]
  },
  {
   "cell_type": "code",
   "execution_count": null,
   "id": "b3b822a9-09f4-459a-b199-fecb1144b11c",
   "metadata": {},
   "outputs": [],
   "source": [
    "# A = [1,2,3,4,5,6,7,8,9]\n",
    "# B = [9,8,7,6,5,4,3,2,1]\n",
    "# pd.DataFrame({\"A\": A, \"B\": B})"
   ]
  },
  {
   "cell_type": "code",
   "execution_count": null,
   "id": "37fab3d5-f395-4fef-a1e0-83b52dbb4344",
   "metadata": {},
   "outputs": [],
   "source": [
    "# SCHEMA\n",
    "# file name, file path, file type, size, atime, mtime, ctime"
   ]
  },
  {
   "cell_type": "code",
   "execution_count": null,
   "id": "6fe5598c-d2df-4a59-8c5b-f9464277d9d8",
   "metadata": {},
   "outputs": [],
   "source": [
    "# con = sqlite3.connect(\"document.db\")\n",
    "# cur = con.cursor()\n",
    "# table = \"documents\"\n",
    "# query = f\"\"\"SELECT name FROM sqlite_master WHERE type=\"table\" AND name=\"{table}\";\"\"\"\n",
    "# cur.execute(query)\n",
    "# cur.fetchall()"
   ]
  },
  {
   "cell_type": "code",
   "execution_count": null,
   "id": "97ee9ccc-a9d9-4da1-8369-e9825a42aa1a",
   "metadata": {},
   "outputs": [],
   "source": [
    "# https://www.sqlitetutorial.net/sqlite-create-table/\n",
    "# https://www.sqlitetutorial.net/sqlite-index/\n",
    "# https://www.sqlitetutorial.net/sqlite-alter-table/\n",
    "\n",
    "# CREATE UNIQUE INDEX idx_contacts_email ON contacts (email)"
   ]
  },
  {
   "cell_type": "code",
   "execution_count": null,
   "id": "053e4ade-b776-4e8b-80a7-fe0e72a7dadf",
   "metadata": {},
   "outputs": [],
   "source": [
    "# # SELECT name FROM sqlite_master WHERE type='table' AND name='{table_name}';\n",
    "# query = \"SELECT name FROM sqlite_master WHERE type='table' AND name='documents';\"\n",
    "# cur.execute(query)\n",
    "# cur.fetchall()"
   ]
  },
  {
   "cell_type": "code",
   "execution_count": null,
   "id": "592157af-f277-475c-82b9-51e60807be85",
   "metadata": {},
   "outputs": [],
   "source": [
    "# df = pd.DataFrame(d)\n",
    "# df.to_sql(name='documents', con=con, index=False, if_exists='replace')"
   ]
  },
  {
   "cell_type": "code",
   "execution_count": null,
   "id": "6672cc68-5f83-40da-8275-6754c3b23a6b",
   "metadata": {},
   "outputs": [],
   "source": [
    "# pd.read_sql('select * from documents', con)\n",
    "#pd.read_sql('select filename, filepath from documents', con)"
   ]
  },
  {
   "cell_type": "code",
   "execution_count": null,
   "id": "f3ff24c4-fce0-48ea-b6a2-945d6df11503",
   "metadata": {},
   "outputs": [],
   "source": [
    "# # cur.executemany('insert into Counts (email, count) values (?,?)',Counts)\n",
    "# # conn.commit()\n",
    "\n",
    "# db = 'document.db'\n",
    "# table='documents'\n",
    "\n",
    "# con=sqlite3.connect(db)\n",
    "# cur = con.cursor()\n",
    "\n",
    "# query = f\"\"\" INSERT INTO '{table}' \n",
    "#                  (hash, filename, filepath, filetype, size, accesstime, modtime, createtime, summary)\n",
    "#              VALUES (?, ?, ?, ?, ?, ?, ?, ?, ?)\"\"\"\n",
    "\n",
    "# res = cur.executemany(query, file_info)\n",
    "# con.commit()"
   ]
  },
  {
   "cell_type": "code",
   "execution_count": null,
   "id": "b24172a8-68c5-4a93-9c2e-a331d7288eaa",
   "metadata": {},
   "outputs": [],
   "source": [
    "# # This works\n",
    "\n",
    "# # curl -X PUT --data-binary @'An Introduction to Biomechanics - Jay D Humphrey- Sherry L O’Rourke.pdf' http://localhost:9998/meta --header \"Content-type: application/pdf\" --header \"X-Tika-PDFocrStrategy: no_ocr\"\n",
    "\n",
    "# file = \"./Springer/An Introduction to Biomechanics - Jay D Humphrey- Sherry L O’Rourke.pdf\"\n",
    "\n",
    "# buffer = BytesIO()\n",
    "\n",
    "# c = pycurl.Curl()\n",
    "# c.setopt(c.URL, 'http://localhost:9998/meta')\n",
    "# c.setopt(c.UPLOAD, 1)\n",
    "# c.setopt(c.HTTPHEADER, ['Content-type: application/pdf','X-Tika-PDFocrStrategy: no_ocr'])\n",
    "# f = open(file, 'rb')\n",
    "# c.setopt(c.READDATA, f)\n",
    "# c.setopt(c.VERBOSE, False)\n",
    "\n",
    "# c.setopt(c.WRITEDATA, buffer)\n",
    "\n",
    "# c.perform()\n",
    "# c.close()\n",
    "# # File must be kept open while Curl object is using it\n",
    "# f.close()\n",
    "\n",
    "# body = buffer.getvalue()\n",
    "\n",
    "# print(f\"RESULT =====>: {body.decode('iso-8859-1')}\")\n"
   ]
  }
 ],
 "metadata": {
  "kernelspec": {
   "display_name": "Python 3 (ipykernel)",
   "language": "python",
   "name": "python3"
  },
  "language_info": {
   "codemirror_mode": {
    "name": "ipython",
    "version": 3
   },
   "file_extension": ".py",
   "mimetype": "text/x-python",
   "name": "python",
   "nbconvert_exporter": "python",
   "pygments_lexer": "ipython3",
   "version": "3.11.0"
  }
 },
 "nbformat": 4,
 "nbformat_minor": 5
}
