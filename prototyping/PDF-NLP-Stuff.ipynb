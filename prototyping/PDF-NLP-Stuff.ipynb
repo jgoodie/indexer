{
 "cells": [
  {
   "cell_type": "code",
   "execution_count": 67,
   "id": "67c59070-cf95-4407-8b25-309dc95717ef",
   "metadata": {},
   "outputs": [],
   "source": [
    "import re\n",
    "import json\n",
    "import numpy as np\n",
    "import pandas as pd\n",
    "from collections import defaultdict\n",
    "import matplotlib.pyplot as plt\n",
    "\n",
    "%matplotlib inline"
   ]
  },
  {
   "cell_type": "code",
   "execution_count": 76,
   "id": "6d5fa816-2c72-4e30-aafc-5b3ad89079fa",
   "metadata": {},
   "outputs": [
    {
     "data": {
      "text/plain": [
       "31.3"
      ]
     },
     "execution_count": 76,
     "metadata": {},
     "output_type": "execute_result"
    }
   ],
   "source": [
    "np.round(0.3129863098410016,4)*100"
   ]
  },
  {
   "cell_type": "code",
   "execution_count": 71,
   "id": "715b9a14-cb84-41cb-a123-5b817471682a",
   "metadata": {},
   "outputs": [
    {
     "data": {
      "text/plain": [
       "41.53708549006866"
      ]
     },
     "execution_count": 71,
     "metadata": {},
     "output_type": "execute_result"
    }
   ],
   "source": [
    "np.random.normal() + 42"
   ]
  },
  {
   "cell_type": "code",
   "execution_count": 80,
   "id": "32ea54a9-c746-4ba1-a4b6-feb700062025",
   "metadata": {},
   "outputs": [
    {
     "data": {
      "text/plain": [
       "array([43, 56, 67])"
      ]
     },
     "execution_count": 80,
     "metadata": {},
     "output_type": "execute_result"
    }
   ],
   "source": [
    "np.array([43.4, 56.4, 67.4]).astype(int)"
   ]
  },
  {
   "cell_type": "code",
   "execution_count": 81,
   "id": "a775e5a0-506d-4b37-ad7b-24724f7ab703",
   "metadata": {},
   "outputs": [
    {
     "data": {
      "text/plain": [
       "92"
      ]
     },
     "execution_count": 81,
     "metadata": {},
     "output_type": "execute_result"
    }
   ],
   "source": [
    "74+18"
   ]
  },
  {
   "cell_type": "code",
   "execution_count": 86,
   "id": "3142b635-4e35-42f4-94fc-0bd56880eab6",
   "metadata": {},
   "outputs": [
    {
     "data": {
      "text/plain": [
       "defaultdict(dict, {'discrete': {0: 'asfsafd'}})"
      ]
     },
     "execution_count": 86,
     "metadata": {},
     "output_type": "execute_result"
    }
   ],
   "source": [
    "d = defaultdict(dict)\n",
    "d['discrete'][0] = \"asfsafd\"\n",
    "d"
   ]
  },
  {
   "cell_type": "code",
   "execution_count": 87,
   "id": "6cdb61fe-deea-4adf-9371-0fc427f32f2c",
   "metadata": {},
   "outputs": [],
   "source": [
    "from itertools import combinations, permutations"
   ]
  },
  {
   "cell_type": "code",
   "execution_count": 100,
   "id": "f7c87742-a888-4697-a549-3731d84d35ba",
   "metadata": {},
   "outputs": [],
   "source": [
    "x = [1,2,3,4,5]\n",
    "y = ['a','b','c','d', 'e']\n"
   ]
  },
  {
   "cell_type": "code",
   "execution_count": null,
   "id": "a1c66bb3-770f-4afe-b8d9-03de4344a0a5",
   "metadata": {},
   "outputs": [],
   "source": []
  },
  {
   "cell_type": "code",
   "execution_count": null,
   "id": "b4258ac0-d993-4616-8ffe-1247397d0799",
   "metadata": {},
   "outputs": [],
   "source": []
  },
  {
   "cell_type": "code",
   "execution_count": null,
   "id": "7fd73aa9-d5fc-4481-b4f6-c76621629d0b",
   "metadata": {},
   "outputs": [],
   "source": []
  },
  {
   "cell_type": "markdown",
   "id": "1556a3e0-e341-4fe3-9c17-298b697f66bd",
   "metadata": {},
   "source": [
    "# Timestamp removal"
   ]
  },
  {
   "cell_type": "code",
   "execution_count": 2,
   "id": "b23cbe7d-5a63-481d-a539-87f3d5071ba9",
   "metadata": {},
   "outputs": [],
   "source": [
    "bad_text1 =\"\"\"\n",
    "You Umelines.00: :52 Speaker 2You know, I mean if.00: :53 Speaker 2You either have.00:14:55 Speaker 2More people, Ume quality.00:14:56 Speaker 200:15:02 Speaker 2Know quality Ume right?00:15:04 Speaker 1Yeah, yeah something's goZa give right?00:15:06 Speaker 1I I hear alright UM?00:15:10 Speaker 1Talk liZle bit balance.00:15:11 Speaker 1That menUoning about, uh.00:15:15 Speaker 1They focus ﬁre, reacUve.00:15:18 Speaker 1So really being.00:15:19 Speaker 1Able invest clean know proacUve.00:15:23 Speaker 1How balance?00:15:25 Speaker 1How you?00:15:27 Speaker 100:15:34 Speaker 200:15:41 Speaker 200:15:57 Speaker 200:16:01 Speaker 200:16:06 Speaker 2How handle ﬁres versus?00:16:08 Speaker 2How new dev work and?00:16:10 Speaker 2I think part.00:16:11 Speaker 200:16:16 Speaker 200:16:21 Speaker 200:16:28 Speaker 2What main frustraUons there?I think context I feel like problem got worse Ume.Engineering moved from, know, past dev team hadoperaUons o]en even would like sustaining team working OPS foryou know, ongoing, right?And then, things combined brought Dev OPS became one big team.It became much challenging prioriUzaUon you?Of problem I feel like account ﬁres planning, right?So plan going deliver stuﬀ, probably do.Do great job saying, yeah, know we're going need allocate much percent ofour Ume to.Taking care things going crop 'cause always right, there's always.Yeah, Ume impossible go back leadership.\n",
    "\"\"\""
   ]
  },
  {
   "cell_type": "code",
   "execution_count": 3,
   "id": "5194cc0e-503b-4e6d-8b39-74a8183eb85d",
   "metadata": {},
   "outputs": [],
   "source": [
    "bad_text2=\"\"\"\n",
    "I'm goingto run Nintendo Entertainment System like actual cartridge, right?So I'm also going port PC, there'll larger audience well, 'cause that's kind ofa preZy small audience, I think customer potenUal customers actually preZy small,like there's whole lot people buying cartridges run this.00:00:34 Speaker  0:00:40 Speaker 200:00:43 Speaker  lright, sounds good.00:00:45 Speaker 1So one quesUon you.00:00:47 Speaker 100:00:58 Speaker 1Your road map?00:01:01 Speaker 200:01:15 Speaker 200:01:33 Speaker 1Type system.00:01:34 Speaker 2Right so.00:01:35 Speaker 1I'm one them.00:01:36 Speaker 2What's that?00:01:37 Speaker 1You I one them.00:01:38 Speaker 1I original NES.00:01:40 Speaker 2Oh yes, exactly.00:01:41 Speaker 2OK, great.00:01:41 Speaker 200:01:49 Speaker 200:02:06 Speaker 200:02:13 Speaker 200:02:18 Speaker 2InteresUng people.00:02:19 Speaker 200:02:28 Speaker 200:02:34 Speaker 2I I right.00:02:36 Speaker 1I've actually trying collect people I know sUll one I send cartridgesand say test there's many people I know.So I'm honest, I done kind user interviews anything like that.00:01:56 Speaker 2I've mostly looking games.00:01:58 Speaker 2In era following people TwiZer interested type game see whatexcites them.To see they're interested see developers there, handfulof people making new games NES.And seeing know trends seemed be.All said, honest, lot I'm something I've always wanted todo, perhaps biggest customer myself.You know, terms building something I I want play I want go say.And OK part hypothesis we're trying works space, notonly product management, technology driving.I know, uh, piece so]ware so.So even though may compeUUve insights basically nocompeUUon.You're trying get insights on, know TwiZer, talking people may already theconsoles, may used maybe would like go back thatporUon, right?OK, that's that's preZy valid.00:02:36 Speaker 2I'm probably normal, I'm not.00:02:39 Speaker 2Your normal customer.00:02:40 Speaker 2You know?00:02:41 Speaker 100:02:50 Speaker 100:02:54 Speaker 1This good.00:02:54 Speaker 100:03:01 Speaker 100:03:14 Speaker 2Right?00:03:15 Speaker 1So you?00:03:17 Speaker 100:03:20 Speaker 2Uh, OneNote.00:03:21 Speaker 2How keeping track that?I OneNote page ideas people people saying.What, uh, know, look interesUng me.Uh, structured point, sort a, know, keeping list ideas.00:03:37 Speaker 1Yes, yes, like axe icebox nice.Alright, course I cannot ask well good quesUon, Ume, feel thatyour companyIs losing maintaining essence product?What would word absence losing maintaining?Yeah, know starUng cartridge you're.00:03:27 Speaker 200:03:29 Speaker 2It's terribly.00:03:32 Speaker 200:03:40 Speaker 1I like that.00:03:40 Speaker 100:03:50 Speaker 100:03:57 Speaker 2Uh, well I.00:04:01 Speaker 200:04:04 Speaker 100:04:07 Speaker 1Also telling that.00:04:08 Speaker 1You want PC.00:04:10 Speaker 2Yeah, yeah, well goal beginning.00:04:11 Speaker 1Is that, uh, vacaUon.00:04:14 Speaker 2I'm deviated original goal, I would say I'm I'm sUll track I really wantedto do.I knew beginning releasing S game wide enough audience, I alsoknow releasing PC game might aZract enough aZenUon.There's ton indie releases every year, yes get aZenUon there's ahandful release every year, yeah, sell PC broader distribuUon.Yeah, I'm not.00:04:14 Speaker 200:04:21 Speaker 200:04:30 Speaker 200:04:40 Speaker 1Got it?00:04:42 Speaker 1OK, that's that's kinda cool.00:04:44 Speaker 1Alright, I I hear I hear.00:04:45 Speaker 1You tell something, feel the.00:04:48 Speaker 1Internal poliUcs company.00:04:52 Speaker 2They're great.00:04:52 Speaker 1I'm I'm sorry I've because.00:04:54 Speaker 1That's one quesUons.00:04:55 Speaker 2Everyone gets along well.00:04:57 Speaker 2I mean usually.00:04:58 Speaker 2I mean, there's there's Umes even liZle conﬂict.00:05:00 Speaker 2You know, uh.00:05:01 Speaker 100:05:05 Speaker 2All right, resource allocaUon?Well, actually kind funny, like terms like.How much Ume I spend versus that?00:05:08 Speaker 2How I use Ume?00:05:09 Speaker 2I I balance out.00:05:11 Speaker 200:05:13 Speaker 2But there's no.00:05:14 Speaker 2You know I put what?00:05:16 Speaker 100:05:18That would make.00:05:20 Speaker 2I am.00:05:21I am.00:05:22 Speaker 1Yeah, you, in.00:05:23 Speaker 1A preZy special unique posiUon.00:05:26 Speaker 1OK good alright fully empowered make decisions, right?I congratulate boZom my.00:05:28 Speaker 1Heart preZy cool.00:05:29 Speaker 200:05:35 Speaker 2For example, I'm not, uh, arUst.00:05:37 Speaker 2So OK, serious, though, I considered outsourcing certain aspects I'm doing.I art thing, I've considered hiring pixel arUst art, I'm.I'm far enough along actually make call yet, there's are.00:05:47 Speaker 200:05:50 Speaker 200:05:53 Speaker 100:05:55 Speaker 100:06:00 Speaker 1There areas I could bring people needed.And I'm serious kind thing.How thinking project planning terms of?How deciding Bielfeldt ﬁrst are?00:06:03 Speaker 1You trying build story?00:06:05 Speaker 1Some people like tell liZle bit managing your.Close essence, backlog.00:06:09 Speaker 2Yeah so.00:06:10 Speaker 100:06:12 Speaker 2Yeah I do.00:06:13 Speaker 2I I I started it.00:06:15 Speaker 2I thought in.00:06:17 Speaker 2What call Azure?00:06:20 Speaker 1No teams whatever know.00:06:21 Speaker 2And whatever think.00:06:22 Speaker 100:06:30 Speaker 2You know operaUon liZle.00:06:31 Speaker 2Bit overkill, but.00:06:32 Speaker 200:06:38 Speaker 2Technical foundaUon ﬁrst.00:06:40 Speaker 2You know, think about.00:06:41 Speaker 2A game got a.00:06:43 Speaker 2The Visual Studio FoundaUon server, yeah.00:06:25 Speaker 2Yes, yeah, whatever called now, I I decided one person.Uhm, aﬀecUvely, I've I decided I wanted go a]er.Basically engine, game itself, like assets and.00:06:48 Speaker 200:06:50 Speaker 2And whatnot make game unique, right?Well, building S, engine.00:06:53 Speaker 2I can't take unity unreal something.00:06:54 Speaker 2That's like use build.00:06:57 Speaker 2So build build everything.00:06:59 Speaker 2So I build, know, I'm plaform Mario Castlevania type game, I build, youknow, physics collision detecUon know kind stuﬀ ground up.My ﬁrst objecUve make a.00:07:10 Speaker 2So ﬁrst.00:07:12 Speaker 200:07:14 Speaker 2List all.00:07:15 Speaker 200:07:20 Speaker 200:07:26 Speaker 2Game gonna going like.00:07:28 Speaker 200:07:37 Speaker 2So I built ﬁrst.00:07:38 Speaker 200:07:43 Speaker 2Of basic foundaUonal capabiliUes game would need even without a.Story like plot uh, know, even kind details far like what's this?A lot I pushed decisions oﬀ later I knew I wanted plaformer gameand I knew plaformers require basic capabiliUes.And I started brainstorming wife, actually, 'cause helping think through.What types capabiliUes, technical capabiliUes need able expand into?I've goZen like core foundaUon I'm onto second set foundaUonal things.Is make game liZle bit unique, third thing content like I've got theengine creaUng speciﬁc maps speciﬁc enemy sprites speciﬁc know allthe things make game look feel way does, I really can't Ull a]er I've builtthe underlying engine controls works.Do what's makes game unique, right?You know what?00:07:44 Speaker 200:07:49 Speaker 200:07:52 Speaker 2So I'd say I'm I'm.00:07:54 Speaker 200:08:00 Speaker 2Well, believe not, complete you.00:08:20 Speaker 2Like this?00:08:21 Speaker 100:08:25 Speaker 1Yeah whole thing.00:08:26 Speaker 1I mean may.00:08:27 Speaker 1Be here, have.00:08:29 Speaker 100:08:30 Speaker 2Yeah, more.00:08:31 Speaker 2It's I have.00:08:33 Speaker 2A whole project plan instead money.I'm sort wriZen down, not, again, I'm using OneNote.You know, a, list, know I need one person.Alright, exciUng honest.I it.00:08:34 Speaker 200:08:36 Speaker 200:08:41 Speaker 1That's preZy cool.00:08:41 Speaker 1That's preZy damn cool.00:08:42 Speaker 100:08:46 Speaker 1I I'm I'm impressed.00:08:48 Speaker 1That's super cool.00:08:49 Speaker 100:08:51 Speaker 1All right.00:08:52 Speaker 1That's super super Dang cool.00:08:58 Speaker 1You in.00:08:58 Speaker 1A company, yeah, but.00:09:00 Speaker 100:09:04 Speaker 1So director.Let trigger invoke previous life, right?So lot quesUons I basically sensaUons I cannot measure youbecause.Of engineering engineering manager know previous role Microso].Place I I wanted learn liZle bit about.What perspecUve believe biggest challenge product manager?Well, I'm sure biggest, I'll start comes top head.A lot Ume eﬀort spent trying understand.Are really trying accomplish like what?00:09:50 Speaker 2Measurable thing going to?00:09:06 Speaker 100:09:10 Speaker 100:09:17 Speaker 100:09:26 Speaker 2The biggest challenge?00:09:30 Speaker 200:09:35 Speaker 2I feel like.00:09:37 Speaker 200:09:46 Speaker 200:09:55 Speaker 2Why what?00:09:56 Speaker 2What's it?00:09:57 Speaker 200:10:10 Speaker 2I felt like.00:10:11 Speaker 2Too o]en uhm.00:10:16 Speaker 2What team cares know we've built thing, goingto actually accomplish important business stakeholders responsible to, right?In rush get delivering something value, take Ume to.Or maybe project managers given Ume needed really ﬂesh out.How I know success looks like I going?Yes, I I I saw life passing front.00:10:45 Speaker 1All right, that's preZy good.00:10:23 Speaker 200:10:29 Speaker 200:10:33 Speaker 2To measure that.00:10:38 Speaker 2Makes sense.00:10:40 Speaker 100:10:47 Speaker 1Thank that.00:10:51 Speaker 1Do even do?00:10:52 Speaker 100:11:02 Speaker 2Yes, certainly, uhm?00:11:05 Speaker 2I feel like.00:11:07 Speaker 2Uhm yes.00:11:09 Speaker 2You want that, yes.00:11:10 Speaker 1Yeah, yeah, tell liZle.You ever felt team, company group lost original essence product guys wereworking on?00:11:12 Speaker 1Bit that.00:11:13 Speaker 2Yeah, I I feel like.00:11:15 Speaker 200:11:25 Speaker 200:11:30 Speaker 200:11:33 Speaker 200:11:40 Speaker 200:11:50 Speaker 200:11:57 Speaker 200:12:00 Speaker 2And then.00:12:01 Speaker 2On one occasion.00:11:18 Speaker 2Uhm, would get focused speciﬁc OK couple things.One ﬁres come say go focus right?And can't.We can't focus core thing, then, even working core thing saidwe want do.Over Ume, I feel like dri] away iniUally trying toaccomplish, o]en o]en form compromises, right?We say, well, can't really thing wanted hard, takes muchmoney, much Ume, whatever.So we'll compromise we'll thing instead.SomeUmes series that.00:12:02 Speaker 200:12:06 Speaker 2Like you, seZle this, end seZling something even less.And Ume done, go back look original, original goal, you'relike, even get here?Do ever felt product management PM, UM, asked put together road map withouthaving customer insight?I mean think I working guys in.00:12:12 Speaker 2This we.00:12:14 Speaker 2Signed for.00:12:16 Speaker 100:12:26 Speaker 2Yes, certainly yeah.00:12:30 Speaker 1And man who.00:12:34 Speaker 100:12:42Who is?00:12:43 Speaker 100:12:50 Speaker 2Uh, I would say.00:12:53 Speaker 200:13:05 Speaker 200:13:08 Speaker 200:12:38 Speaker 1Machine voice, example right?00:12:40 Speaker 1What impression to?The primary audience robot.Well, two I would say two groups 11 immediate management rolling management chainfrom engineering team, also.Higher level people business supporUng.Not people actually building thing for.OK, basically never daktel users right.It always sort leadership, either leadership leadership people.The money one customer.00:13:13 Speaker 100:13:16 Speaker 100:13:21 Speaker 1That paying.00:13:21 Speaker 100:13:24 Speaker 1Basically right cool.00:13:27 Speaker 1Last quesUon related this.00:13:32 Speaker 1Would say you?00:13:34 Speaker 1Found, uhm, OK.00:13:36 Speaker 100:13:40 Speaker 1Or know slightly unpleasant.00:13:43 Speaker 1How internal poliUcs?00:13:47 Speaker 200:13:50 Speaker 1You know, I mean whatever general.00:13:54 Speaker 1I tell T.00:13:55 Speaker 1So I'm going measure like unpleasant neutral super unpleasant.You want pick speciﬁc project general Microso].So kind hard quesUon answer 'cause.It really vary lot based I working on, always element ofunpleasantness, right like I.I never worked anything everything always.And know, yeah, rainbows that, yeah.Oh horrible MSN voice, but.00:14:00 Speaker 2I I'd say, know.00:14:04 Speaker 200:14:07 Speaker 200:14:14 Speaker 200:14:17 Speaker 1PreZy beauUful.00:14:19 Speaker 100:14:19Yes, right, right right.00:14:21 Speaker 1I get it, about?00:14:23The struggle.00:14:24 Speaker 1On lack resources.00:14:31 Speaker 1Oh dirt natural know.00:14:33 Speaker 2No, I mean deﬁnitely.00:14:38 Speaker 2So here's here's thing.00:14:39 Speaker 2I feel like, uhm?No, know know three right, right?00:14:58 Speaker 2So always problem willing adjust areas, you.00:14:42 Speaker 2Resources only, uh, problem when.00:14:48 Speaker 2You're you.\n",
    "\"\"\""
   ]
  },
  {
   "cell_type": "code",
   "execution_count": 4,
   "id": "ff480b72-bf12-407c-9e6c-a29df9678676",
   "metadata": {},
   "outputs": [
    {
     "data": {
      "text/plain": [
       "['', 'That would make.']"
      ]
     },
     "execution_count": 4,
     "metadata": {},
     "output_type": "execute_result"
    }
   ],
   "source": [
    "t = '00:05:18That would make.'\n",
    "# pattern = r\"[0-9]{0,3}:[0-9]{0,3}:[0-9]{0,3}[\\s+][Speaker]* [1-9]{0,3}\"\n",
    "pattern = r\"[0-9]{0,3}:[0-9]{0,3}:[0-9]{0,3}\\s*[Speaker]*\\s*[1-9]{0,3}\"\n",
    "re.split(pattern, t)"
   ]
  },
  {
   "cell_type": "code",
   "execution_count": 5,
   "id": "66be843c-025a-49e6-a585-ad2a0a5108cd",
   "metadata": {},
   "outputs": [
    {
     "data": {
      "text/plain": [
       "['You Umelines',\n",
       " 'You know, I mean if',\n",
       " 'You either have',\n",
       " 'More people, Ume quality',\n",
       " 'Know quality Ume right',\n",
       " \"Yeah, yeah something's goZa give right\",\n",
       " 'I I hear alright UM',\n",
       " 'Talk liZle bit balance',\n",
       " 'That menUoning about, uh',\n",
       " 'They focus ﬁre, reacUve',\n",
       " 'So really being',\n",
       " 'Able invest clean know proacUve',\n",
       " 'How balance',\n",
       " 'How you',\n",
       " 'How handle ﬁres versus',\n",
       " 'How new dev work and',\n",
       " 'I think part',\n",
       " 'What main frustraUons there',\n",
       " 'I think context I feel like problem got worse Ume',\n",
       " 'Engineering moved from, know, past dev team hadoperaUons o]en even would like sustaining team working OPS foryou know, ongoing, right',\n",
       " 'And then, things combined brought Dev OPS became one big team',\n",
       " 'It became much challenging prioriUzaUon you',\n",
       " 'Of problem I feel like account ﬁres planning, right',\n",
       " 'So plan going deliver stuﬀ, probably do',\n",
       " \"Do great job saying, yeah, know we're going need allocate much percent ofour Ume to\",\n",
       " \"Taking care things going crop 'cause always right, there's always\",\n",
       " 'Yeah, Ume impossible go back leadership',\n",
       " '']"
      ]
     },
     "execution_count": 5,
     "metadata": {},
     "output_type": "execute_result"
    }
   ],
   "source": [
    "# pattern = r\"[0-9]{0,3}:[0-9]{0,3}:[0-9]{0,3} Speaker [1-9]\" # good so far\n",
    "# pattern = r\"[0-9]{0,3}:[0-9]{0,3}:[0-9]{0,3}[\\s+][Speaker]* [1-9]{0,3}\" # good so far\n",
    "pattern = r\"[0-9]{0,3}:[0-9]{0,3}\\s*:[0-9]{0,3}\\s*[Speaker]*\\s*[1-9]{0,3}\"\n",
    "punct = r\"\\.|\\?|!\"\n",
    "text = re.sub(pattern, '', bad_text1)\n",
    "[x.strip() for x in re.split(punct, text)]"
   ]
  },
  {
   "cell_type": "markdown",
   "id": "facf761f-343e-454b-bf49-c061f3d7d4ee",
   "metadata": {},
   "source": [
    "# PDF Junk"
   ]
  },
  {
   "cell_type": "code",
   "execution_count": 6,
   "id": "8658aa52-83d8-44f4-b992-a7fdc99c5636",
   "metadata": {},
   "outputs": [],
   "source": [
    "import tika\n",
    "from tika import parser\n",
    "from glob import glob\n",
    "from pathlib import Path\n",
    "from nltk.tokenize import sent_tokenize, word_tokenize"
   ]
  },
  {
   "cell_type": "code",
   "execution_count": 7,
   "id": "68018886-53ce-49c8-a51d-fe1af385bb92",
   "metadata": {},
   "outputs": [],
   "source": [
    "path = \"/home/john/mediumroast/mr_caffeine/var/queue/f3eae874b1fba924e81d5963a2bc7752ab8d2acd906bb2944f6243f163a6bf23/2\""
   ]
  },
  {
   "cell_type": "code",
   "execution_count": 8,
   "id": "83d527d3-47b2-4bc8-b335-e1b1c2a04144",
   "metadata": {},
   "outputs": [],
   "source": [
    "pdfs = glob(path+'/*pdf')"
   ]
  },
  {
   "cell_type": "code",
   "execution_count": 9,
   "id": "96eb245c-d727-43e6-ad55-42090fb7aeb3",
   "metadata": {},
   "outputs": [
    {
     "data": {
      "text/plain": [
       "['/home/john/mediumroast/mr_caffeine/var/queue/f3eae874b1fba924e81d5963a2bc7752ab8d2acd906bb2944f6243f163a6bf23/2/202108111451-AMER-US-North Carolina-Charlotte-Entertainment-Customer Insights-Self Employed-Interview.pdf',\n",
       " '/home/john/mediumroast/mr_caffeine/var/queue/f3eae874b1fba924e81d5963a2bc7752ab8d2acd906bb2944f6243f163a6bf23/2/202108051509-AMER-US-Washington-Redmond-ICT-Customer Insights-eBay-Interview.pdf',\n",
       " '/home/john/mediumroast/mr_caffeine/var/queue/f3eae874b1fba924e81d5963a2bc7752ab8d2acd906bb2944f6243f163a6bf23/2/202107091400-AMER-US-California-Campbell-ICT-Customer Insights-VMware-Interview.pdf',\n",
       " '/home/john/mediumroast/mr_caffeine/var/queue/f3eae874b1fba924e81d5963a2bc7752ab8d2acd906bb2944f6243f163a6bf23/2/202108091407-AMER-US-California-San Francisco-Finance-Customer Insights-JP Morgan Chase-Interview.pdf',\n",
       " '/home/john/mediumroast/mr_caffeine/var/queue/f3eae874b1fba924e81d5963a2bc7752ab8d2acd906bb2944f6243f163a6bf23/2/202107281900-AMER-US-California-San Francisco-ICT-Customer Insights-Google-Interview.pdf',\n",
       " '/home/john/mediumroast/mr_caffeine/var/queue/f3eae874b1fba924e81d5963a2bc7752ab8d2acd906bb2944f6243f163a6bf23/2/202107231300-AMER-US-California-San Diego-ICT-Customer Insights-Hitachi-Interview.pdf',\n",
       " '/home/john/mediumroast/mr_caffeine/var/queue/f3eae874b1fba924e81d5963a2bc7752ab8d2acd906bb2944f6243f163a6bf23/2/202107301345-AMER-US-Washington-Seattle-ICT-Customer Insights-Microsoft-Interview.pdf',\n",
       " '/home/john/mediumroast/mr_caffeine/var/queue/f3eae874b1fba924e81d5963a2bc7752ab8d2acd906bb2944f6243f163a6bf23/2/202108041019-AMER-US-Washington-Seattle-Health Care-Customer Insights-Providence Health and Services-Interview.pdf',\n",
       " '/home/john/mediumroast/mr_caffeine/var/queue/f3eae874b1fba924e81d5963a2bc7752ab8d2acd906bb2944f6243f163a6bf23/2/202108031722-AMER-US-Washington-Seattle-ICT-Customer Insights-Amazon-Interview.pdf']"
      ]
     },
     "execution_count": 9,
     "metadata": {},
     "output_type": "execute_result"
    }
   ],
   "source": [
    "pdfs"
   ]
  },
  {
   "cell_type": "markdown",
   "id": "656934e7-2170-418d-9684-3ddcd402df0d",
   "metadata": {},
   "source": [
    "## Tika"
   ]
  },
  {
   "cell_type": "code",
   "execution_count": 10,
   "id": "197ee770-31a8-4c09-a5ca-3b4db2c7ed1e",
   "metadata": {},
   "outputs": [],
   "source": [
    "# from tika import parser # pip install tika\n",
    "raw = parser.from_file(pdfs[0])\n",
    "content = raw['content'].strip()"
   ]
  },
  {
   "cell_type": "code",
   "execution_count": 11,
   "id": "ab6f3ed2-e527-4ecc-943e-2653cd14f425",
   "metadata": {},
   "outputs": [
    {
     "data": {
      "text/plain": [
       "[\"202108111451-AMER-US-North Carolina-Charlotte-Entertainment-Customer Insights-Self Employed-Interview   Audio file  audio_only.m4a   Transcript     Wow, there's some new boys that says.\",\n",
       " 'Hey, this recording right all right so not you dumb.',\n",
       " 'What do you normally what do?',\n",
       " 'You currently do for work.',\n",
       " 'I write code and test code.']"
      ]
     },
     "execution_count": 11,
     "metadata": {},
     "output_type": "execute_result"
    }
   ],
   "source": [
    "from tika import parser\n",
    "from nltk.tokenize import sent_tokenize\n",
    "\n",
    "raw = parser.from_file(pdfs[0])\n",
    "content = raw['content'].strip()\n",
    "pattern = r\"[0-9]{0,3}:[0-9]{0,3}\\s*:[0-9]{0,3}\\s*[Speaker]*\\s*[1-9]{0,3}\"\n",
    "text = re.sub(pattern, '', content)\n",
    "sents = [s.strip() for s in sent_tokenize(text)]\n",
    "sents = [re.sub(r\"\\s\", \" \", s) for s in sents]\n",
    "sents[:5]"
   ]
  },
  {
   "cell_type": "code",
   "execution_count": 12,
   "id": "2e225134-0cb9-4b09-a187-ee3043a445d4",
   "metadata": {},
   "outputs": [
    {
     "data": {
      "text/plain": [
       "[\"Moderator: That's right.\",\n",
       " \"That's where it's all headed.\",\n",
       " 'Sorry, not to my knowledge, anyway.',\n",
       " 'Technically, it used to be that it was only we spied on people outside the US, but now they spy on everybody.',\n",
       " 'Male: Everyone.',\n",
       " 'Moderator: We are all in the same boat now.',\n",
       " 'Male: [crosstalk ] Moderator: Say again?',\n",
       " 'Male: You asked everybody before the meeting starts?',\n",
       " 'Male: Yeah.']"
      ]
     },
     "execution_count": 12,
     "metadata": {},
     "output_type": "execute_result"
    }
   ],
   "source": [
    "file = '20141002-EMEA-GERMANY-HESSE-FRANKFURT-ICT-Storage Beyond Panama-SVA-Transcript.docx'\n",
    "raw = parser.from_file(file)\n",
    "content = raw['content'].strip()\n",
    "pattern = r\"[0-9]{0,3}:[0-9]{0,3}\\s*:[0-9]{0,3}\\s*[Speaker]*\\s*[1-9]{0,3}\"\n",
    "text = re.sub(pattern, '', content)\n",
    "sents = [s.strip() for s in sent_tokenize(text)]\n",
    "sents = [re.sub(r\"\\s\", \" \", s) for s in sents]\n",
    "sents[1:10]"
   ]
  },
  {
   "cell_type": "code",
   "execution_count": 13,
   "id": "265caae2-41a6-48e0-80b7-a676f3300d57",
   "metadata": {},
   "outputs": [],
   "source": [
    "# /var/queue/ff494e133a8ea49b814a519d019dab0e3b81b1082dca232386dee671e1a952e1/default/\n",
    "path = \"/home/john/mediumroast/mr_caffeine/var/queue/ff494e133a8ea49b814a519d019dab0e3b81b1082dca232386dee671e1a952e1/default/\"\n",
    "pdfs = glob(path+'/*pdf')"
   ]
  },
  {
   "cell_type": "code",
   "execution_count": 14,
   "id": "18655cd5-b664-4c14-8d6b-d19edb8b2157",
   "metadata": {},
   "outputs": [
    {
     "name": "stdout",
     "output_type": "stream",
     "text": [
      "20160624-EMEA-DENMARK-REGION HOVEDSTADEN-COPENHAGEN-IT SERVICES-HyperConverged-PotIT-Interview\n",
      "\n",
      "\n",
      "IT Box Co GLOBAL INFORMATION SOLUTIONS DIVISION Hyper Converged \n",
      "Version 1.0 \n",
      "\n",
      "PotIT   \n",
      "\n",
      "Name: Hyper Converged Infrastructure \n",
      "\n",
      "Date: June 24, 2016 \n",
      "\n",
      "Attendee: \n",
      "PotIT: \n",
      "\n",
      "! Kumar Chetan (Assistant Vice President) \n",
      "! ? (Solution Architect) \n",
      "! Chad Myers, Innova (GTM solution architect) \n",
      "\n",
      "IT Box Co:  \n",
      "! Vincent Franceschini (OTP) \n",
      "! Tom Christensen  (IT Box Co Denmark Area Manager) \n",
      "! Rikke Kavsman (Account Sales)  \n",
      "! Tatsuo Higuchi (Customer Insights) \n",
      "! Satoshi Ishiguchi (Customer Insights) \n",
      "\n",
      "Summary \n",
      "(1) Comments on Hyper Converged Infrastructure (HCI) Type1*  use cases 1\n",
      "\n",
      "● (Comments on the use cases of deploying multiple workload on a single HCI \n",
      "node) “You may have succeeded in one or two migrations, but if you have \n",
      "multiple customers (like in a hosting service environment), I don't think so.”  \n",
      "\n",
      "● “What have you really done on HCI Type 1. Do you have the ability to meet the \n",
      "work load \n"
     ]
    }
   ],
   "source": [
    "raw = parser.from_file(pdfs[0])\n",
    "print(raw['content'].strip()[:1000])"
   ]
  },
  {
   "cell_type": "code",
   "execution_count": 15,
   "id": "ae9471ea-f903-4f24-9985-2b04f37a3ab9",
   "metadata": {},
   "outputs": [
    {
     "name": "stdout",
     "output_type": "stream",
     "text": [
      "20160219-APAC-AUSTRALIA-VICTRIA-MELBOURNE-ICT-HyperConverged-ModerationIT-Interview\n",
      "\n",
      "\n",
      "IT Box Co GLOBAL INFORMATION SOLUTIONS DIVISION Hyper Converged \n",
      "Version 1.0 \n",
      "\n",
      "ModerationIT\n",
      "Name: Hyper Converged \n",
      "\n",
      "Date: February 19, 2016 \n",
      "\n",
      "Attendee: \n",
      "• ModerationIT \n",
      "\n",
      "o Chris Danci (Senior Technologist) \n",
      "• IT Box Co: \n",
      "\n",
      "o Koichiro Asai (ATLAS) \n",
      "o Andrew McGee (IT Box Co Presales) \n",
      "o Tatsuo Higuchi (GOTP) \n",
      "o Satoshi Ishiguchi (GOTP) \n",
      "o Keisuke Hatasaki (IPSL) \n",
      "\n",
      "Summary \n",
      "\n",
      "(1)HCI Type1 \n",
      "• Tend to agree that the Type1 architecture is really more about delivering specific use \n",
      "\n",
      "cases rather than a generic use case. \n",
      "• Cloud has the ability to scale down. How do you scale down on a Hyper Converge? \n",
      "\n",
      "This is one of the challenges Nutanix is having at the moment. When it comes to how \n",
      "do I scale down, you’d bought the platform. You’ve made the investment. \n",
      "\n",
      "(2)Comments on HCI Type 2 \n",
      "• The interconnect is going to be key here on how well you’re going to be able to scale. \n",
      "• The biggest thing there is with t\n"
     ]
    }
   ],
   "source": [
    "raw = parser.from_file(pdfs[1])\n",
    "print(raw['content'].strip()[:1000])"
   ]
  },
  {
   "cell_type": "markdown",
   "id": "0315b140-6fcc-4fc4-b8b4-3d973a791305",
   "metadata": {},
   "source": [
    "# YAKE"
   ]
  },
  {
   "cell_type": "code",
   "execution_count": 16,
   "id": "0c1d7fc9-ac40-442a-be0f-9b3cad13f282",
   "metadata": {},
   "outputs": [],
   "source": [
    "import re\n",
    "import numpy as np\n",
    "import pandas as pd\n",
    "\n",
    "import tika\n",
    "from tika import parser\n",
    "\n",
    "from glob import glob\n",
    "from pathlib import Path\n",
    "\n",
    "import yake\n",
    "from nltk.corpus import stopwords\n",
    "from nltk.tokenize import sent_tokenize, word_tokenize\n",
    "\n",
    "import matplotlib.pyplot as plt\n",
    "\n",
    "%matplotlib inline"
   ]
  },
  {
   "cell_type": "code",
   "execution_count": 17,
   "id": "fba34c7c-fef9-405f-b1e8-26f7daf8f4a4",
   "metadata": {},
   "outputs": [],
   "source": [
    "dir = \"mr_tika/notebooks/samples/hpdat/\"\n",
    "files = glob(dir+'*pdf')\n",
    "raw = parser.from_file(files[3])\n",
    "content = raw['content'].strip()\n",
    "pattern = r\"[0-9]{0,3}:[0-9]{0,3}\\s*:[0-9]{0,3}\\s*[Speaker]*\\s*[1-9]{0,3}\"\n",
    "text = re.sub(pattern, '', content)\n",
    "pattern = r\"[0-9]{0,3}:[0-9]{0,3}\"\n",
    "text = re.sub(pattern, '', content)\n",
    "sents = [s.strip() for s in sent_tokenize(text)]\n",
    "sents = [re.sub(r\"\\s\", \" \", s) for s in sents]\n",
    "text = \" \".join(sents[2:])"
   ]
  },
  {
   "cell_type": "code",
   "execution_count": 18,
   "id": "542aabbc-8cc2-40ef-9081-f9b2b1a0f4ba",
   "metadata": {},
   "outputs": [],
   "source": [
    "# stop_words = set(stopwords.words('english'))\n",
    "# tokens = [x for x in word_tokenize(text)]\n",
    "# tokens = [x for x in tokens if x not in stop_words]\n",
    "# text = \" \".join(tokens)"
   ]
  },
  {
   "cell_type": "code",
   "execution_count": 25,
   "id": "21c07bb8-dace-4572-83e8-9c8db87d1b39",
   "metadata": {},
   "outputs": [
    {
     "name": "stdout",
     "output_type": "stream",
     "text": [
      "('performance overall from an application', -1768.8015154347006)\n",
      "('kind of getting out of market', -549.6239388450217)\n",
      "('focus now to more GDPR like thing', -313.0913000118556)\n",
      "('provide a somebody like you can provide', -62.70210127998307)\n",
      "('customer who is using this product', -14.495685139624666)\n",
      "('move over to the cloud', -8.136756602420121)\n",
      "('points being in the Wells Fargo', -7.795167787717418)\n",
      "('give it to somebody like Wells Fargo', -5.087338060262867)\n",
      "('data because we never move', -2.935526156967263)\n",
      "('lot of them are actually kind', -2.891898480391893)\n",
      "('give you all the data', -2.721679063249699)\n"
     ]
    }
   ],
   "source": [
    "language = \"en\"\n",
    "max_ngram_size = 7\n",
    "deduplication_thresold = 0.95\n",
    "deduplication_algo = 'seqm' # jaro, levs, seqm, \n",
    "windowSize = 3\n",
    "numOfKeywords = 11\n",
    "\n",
    "custom_kw_extractor = yake.KeywordExtractor(lan=language, n=max_ngram_size, dedupLim=deduplication_thresold, dedupFunc=deduplication_algo, windowsSize=windowSize, top=numOfKeywords, features=None)\n",
    "keywords = custom_kw_extractor.extract_keywords(text)\n",
    "\n",
    "for kw in keywords:\n",
    "    print(kw)\n",
    "    \n",
    "keyterms = [kw[0] for kw in keywords]"
   ]
  },
  {
   "cell_type": "markdown",
   "id": "4e63433b-d8b7-409a-9eea-58e1ece15afc",
   "metadata": {},
   "source": [
    "# PyATE"
   ]
  },
  {
   "cell_type": "code",
   "execution_count": 37,
   "id": "2908a97e-1a2f-4dd1-9ec9-dbbfd77deab9",
   "metadata": {},
   "outputs": [],
   "source": [
    "# !pip install spacy --upgrade\n",
    "# !pip install pyate --upgrade\n",
    "# ERROR: spacy-transformers 1.0.6 has requirement transformers<4.10.0,>=3.4.0, but you'll have transformers 4.13.0 which is incompatible.\n",
    "# ERROR: en-core-web-trf 3.1.0 has requirement spacy<3.2.0,>=3.1.0, but you'll have spacy 3.2.1 which is incompatible.\n",
    "# ERROR: en-core-web-sm 3.1.0 has requirement spacy<3.2.0,>=3.1.0, but you'll have spacy 3.2.1 which is incompatible.\n",
    "# ERROR: en-core-web-md 3.1.0 has requirement spacy<3.2.0,>=3.1.0, but you'll have spacy 3.2.1 which is incompatible.\n",
    "# ERROR: en-core-web-lg 3.1.0 has requirement spacy<3.2.0,>=3.1.0, but you'll have spacy 3.2.1 which is incompatible."
   ]
  },
  {
   "cell_type": "code",
   "execution_count": 38,
   "id": "3b4bd39d-ff32-4597-91c3-5cf173badd6f",
   "metadata": {},
   "outputs": [],
   "source": [
    "import re\n",
    "import numpy as np\n",
    "import pandas as pd\n",
    "\n",
    "import tika\n",
    "from tika import parser\n",
    "\n",
    "from glob import glob\n",
    "from pathlib import Path\n",
    "\n",
    "import yake\n",
    "import spacy\n",
    "import pyate\n",
    "from nltk.corpus import stopwords\n",
    "from nltk.tokenize import sent_tokenize, word_tokenize\n",
    "\n",
    "import matplotlib.pyplot as plt\n",
    "\n",
    "%matplotlib inline"
   ]
  },
  {
   "cell_type": "code",
   "execution_count": 40,
   "id": "c6718fa2-e4a0-48f1-aadb-89d70db78add",
   "metadata": {},
   "outputs": [],
   "source": [
    "dir = \"mr_tika/notebooks/samples/hpdat/\"\n",
    "files = glob(dir+'*pdf')\n",
    "raw = parser.from_file(files[3])\n",
    "content = raw['content'].strip()\n",
    "pattern = r\"[0-9]{0,3}:[0-9]{0,3}\\s*:[0-9]{0,3}\\s*[Speaker]*\\s*[1-9]{0,3}\"\n",
    "text = re.sub(pattern, '', content)\n",
    "pattern = r\"[0-9]{0,3}:[0-9]{0,3}\"\n",
    "text = re.sub(pattern, '', content)\n",
    "sents = [s.strip() for s in sent_tokenize(text)]\n",
    "sents = [re.sub(r\"\\s\", \" \", s) for s in sents]\n",
    "text = \" \".join(sents[2:])"
   ]
  },
  {
   "cell_type": "code",
   "execution_count": 42,
   "id": "0227f8fb-1a68-45bc-b437-d5331c30c7ec",
   "metadata": {},
   "outputs": [
    {
     "name": "stdout",
     "output_type": "stream",
     "text": [
      "financial services              7.158883\n",
      "point of view                   6.295837\n",
      "little bit                      5.022589\n",
      "use case                        4.965736\n",
      "lambda functions                4.386294\n",
      "functions inside the storage    4.386294\n",
      "high performance                4.215736\n",
      "process in the data             3.636294\n",
      "data pipeline                   3.636294\n",
      "life of a data                  3.522589\n",
      "dtype: float64\n"
     ]
    }
   ],
   "source": [
    "nlp = spacy.load('en_core_web_sm')\n",
    "nlp.add_pipe(\"combo_basic\") # or any of `basic`, `weirdness`, `term_extractor` or `cvalue`\n",
    "\n",
    "doc = nlp(text)\n",
    "print(doc._.combo_basic.sort_values(ascending=False).head(10))"
   ]
  },
  {
   "cell_type": "code",
   "execution_count": 47,
   "id": "e7f4b42b-7cf3-4794-8e38-925794a9fd3c",
   "metadata": {},
   "outputs": [
    {
     "name": "stdout",
     "output_type": "stream",
     "text": [
      "financial services              7.158883\n",
      "point of view                   6.295837\n",
      "little bit                      5.022589\n",
      "use case                        4.965736\n",
      "lambda functions                4.386294\n",
      "functions inside the storage    4.386294\n",
      "high performance                4.215736\n",
      "process in the data             3.636294\n",
      "data pipeline                   3.636294\n",
      "life of a data                  3.522589\n",
      "dtype: float64\n"
     ]
    }
   ],
   "source": [
    "nlp = spacy.load('en_core_web_sm')\n",
    "nlp.add_pipe(\"combo_basic\") # or any of 'combo_basic', `basic`, `weirdness`, `term_extractor` or `cvalue`\n",
    "\n",
    "doc = nlp(text)\n",
    "print(doc._.combo_basic.sort_values(ascending=False).head(10))"
   ]
  },
  {
   "cell_type": "code",
   "execution_count": null,
   "id": "c48ccf7f-9dd2-4f23-b6fb-54d22d09b8df",
   "metadata": {},
   "outputs": [],
   "source": []
  },
  {
   "cell_type": "code",
   "execution_count": null,
   "id": "3fcddcc2-542c-4dba-b2ba-a34fd8de6b08",
   "metadata": {},
   "outputs": [],
   "source": []
  },
  {
   "cell_type": "code",
   "execution_count": null,
   "id": "6d88bf7d-4aee-4c02-b993-111b667f9b54",
   "metadata": {},
   "outputs": [],
   "source": []
  },
  {
   "cell_type": "code",
   "execution_count": null,
   "id": "e9a650b3-0524-4f6a-90a8-55b7d06b5821",
   "metadata": {},
   "outputs": [],
   "source": []
  },
  {
   "cell_type": "code",
   "execution_count": null,
   "id": "7e533a17-5524-4442-9701-ef7fe9bfb945",
   "metadata": {},
   "outputs": [],
   "source": []
  },
  {
   "cell_type": "code",
   "execution_count": null,
   "id": "9ada3994-3787-41b9-9003-1d5dc2e83da7",
   "metadata": {},
   "outputs": [],
   "source": []
  }
 ],
 "metadata": {
  "kernelspec": {
   "display_name": "Python 3 (ipykernel)",
   "language": "python",
   "name": "python3"
  },
  "language_info": {
   "codemirror_mode": {
    "name": "ipython",
    "version": 3
   },
   "file_extension": ".py",
   "mimetype": "text/x-python",
   "name": "python",
   "nbconvert_exporter": "python",
   "pygments_lexer": "ipython3",
   "version": "3.8.10"
  }
 },
 "nbformat": 4,
 "nbformat_minor": 5
}
